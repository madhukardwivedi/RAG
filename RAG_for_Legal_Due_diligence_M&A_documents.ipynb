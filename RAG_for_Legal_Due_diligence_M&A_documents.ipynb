{
 "cells": [
  {
   "cell_type": "code",
   "execution_count": 27,
   "id": "16397f1b",
   "metadata": {
    "collapsed": true
   },
   "outputs": [
    {
     "name": "stderr",
     "output_type": "stream",
     "text": [
      "huggingface/tokenizers: The current process just got forked, after parallelism has already been used. Disabling parallelism to avoid deadlocks...\n",
      "To disable this warning, you can either:\n",
      "\t- Avoid using `tokenizers` before the fork if possible\n",
      "\t- Explicitly set the environment variable TOKENIZERS_PARALLELISM=(true | false)\n"
     ]
    },
    {
     "name": "stdout",
     "output_type": "stream",
     "text": [
      "Collecting openai==0.28\n",
      "  Using cached openai-0.28.0-py3-none-any.whl.metadata (13 kB)\n",
      "Requirement already satisfied: requests>=2.20 in /Users/mdwivedi/anaconda3/lib/python3.11/site-packages (from openai==0.28) (2.31.0)\n",
      "Requirement already satisfied: tqdm in /Users/mdwivedi/anaconda3/lib/python3.11/site-packages (from openai==0.28) (4.67.1)\n",
      "Requirement already satisfied: aiohttp in /Users/mdwivedi/anaconda3/lib/python3.11/site-packages (from openai==0.28) (3.8.5)\n",
      "Requirement already satisfied: charset-normalizer<4,>=2 in /Users/mdwivedi/anaconda3/lib/python3.11/site-packages (from requests>=2.20->openai==0.28) (2.0.4)\n",
      "Requirement already satisfied: idna<4,>=2.5 in /Users/mdwivedi/anaconda3/lib/python3.11/site-packages (from requests>=2.20->openai==0.28) (3.4)\n",
      "Requirement already satisfied: urllib3<3,>=1.21.1 in /Users/mdwivedi/anaconda3/lib/python3.11/site-packages (from requests>=2.20->openai==0.28) (1.26.15)\n",
      "Requirement already satisfied: certifi>=2017.4.17 in /Users/mdwivedi/anaconda3/lib/python3.11/site-packages (from requests>=2.20->openai==0.28) (2024.7.4)\n",
      "Requirement already satisfied: attrs>=17.3.0 in /Users/mdwivedi/anaconda3/lib/python3.11/site-packages (from aiohttp->openai==0.28) (24.2.0)\n",
      "Requirement already satisfied: multidict<7.0,>=4.5 in /Users/mdwivedi/anaconda3/lib/python3.11/site-packages (from aiohttp->openai==0.28) (6.0.2)\n",
      "Requirement already satisfied: async-timeout<5.0,>=4.0.0a3 in /Users/mdwivedi/anaconda3/lib/python3.11/site-packages (from aiohttp->openai==0.28) (4.0.2)\n",
      "Requirement already satisfied: yarl<2.0,>=1.0 in /Users/mdwivedi/anaconda3/lib/python3.11/site-packages (from aiohttp->openai==0.28) (1.8.1)\n",
      "Requirement already satisfied: frozenlist>=1.1.1 in /Users/mdwivedi/anaconda3/lib/python3.11/site-packages (from aiohttp->openai==0.28) (1.3.3)\n",
      "Requirement already satisfied: aiosignal>=1.1.2 in /Users/mdwivedi/anaconda3/lib/python3.11/site-packages (from aiohttp->openai==0.28) (1.2.0)\n",
      "Using cached openai-0.28.0-py3-none-any.whl (76 kB)\n",
      "Installing collected packages: openai\n",
      "  Attempting uninstall: openai\n",
      "    Found existing installation: openai 1.57.2\n",
      "    Uninstalling openai-1.57.2:\n",
      "      Successfully uninstalled openai-1.57.2\n",
      "\u001b[31mERROR: pip's dependency resolver does not currently take into account all the packages that are installed. This behaviour is the source of the following dependency conflicts.\n",
      "langchain-openai 0.2.12 requires openai<2.0.0,>=1.55.3, but you have openai 0.28.0 which is incompatible.\n",
      "pyragnarok 0.0.1 requires openai>=1.30.5, but you have openai 0.28.0 which is incompatible.\n",
      "vllm 0.6.4.post1 requires openai>=1.45.0, but you have openai 0.28.0 which is incompatible.\u001b[0m\u001b[31m\n",
      "\u001b[0mSuccessfully installed openai-0.28.0\n",
      "\n",
      "\u001b[1m[\u001b[0m\u001b[34;49mnotice\u001b[0m\u001b[1;39;49m]\u001b[0m\u001b[39;49m A new release of pip is available: \u001b[0m\u001b[31;49m23.3.1\u001b[0m\u001b[39;49m -> \u001b[0m\u001b[32;49m24.3.1\u001b[0m\n",
      "\u001b[1m[\u001b[0m\u001b[34;49mnotice\u001b[0m\u001b[1;39;49m]\u001b[0m\u001b[39;49m To update, run: \u001b[0m\u001b[32;49mpip install --upgrade pip\u001b[0m\n"
     ]
    }
   ],
   "source": [
    "!pip install openai==0.28"
   ]
  },
  {
   "cell_type": "markdown",
   "id": "7a68b476",
   "metadata": {},
   "source": [
    "# RAG pipeline for Legal Due-diligence M&A documents"
   ]
  },
  {
   "cell_type": "markdown",
   "id": "aaa62d2c",
   "metadata": {},
   "source": [
    "### Import necessary libraries for data handling, embeddings, similarity computations, and API calls to OpenAI."
   ]
  },
  {
   "cell_type": "code",
   "execution_count": 1,
   "id": "f14df2b4",
   "metadata": {},
   "outputs": [],
   "source": [
    "import os\n",
    "os.environ[\"OPENBLAS_NUM_THREADS\"] = \"1\"\n",
    "os.environ[\"OMP_NUM_THREADS\"] = \"1\"\n",
    "os.environ[\"MKL_NUM_THREADS\"] = \"1\""
   ]
  },
  {
   "cell_type": "code",
   "execution_count": 2,
   "id": "5c12bd4d",
   "metadata": {},
   "outputs": [
    {
     "name": "stderr",
     "output_type": "stream",
     "text": [
      "/Users/mdwivedi/anaconda3/lib/python3.11/site-packages/sentence_transformers/cross_encoder/CrossEncoder.py:11: TqdmExperimentalWarning: Using `tqdm.autonotebook.tqdm` in notebook mode. Use `tqdm.tqdm` instead to force console mode (e.g. in jupyter console)\n",
      "  from tqdm.autonotebook import tqdm, trange\n"
     ]
    }
   ],
   "source": [
    "import openai\n",
    "import pandas as pd\n",
    "from tqdm import tqdm\n",
    "import time\n",
    "from sentence_transformers import SentenceTransformer\n",
    "from tqdm import tqdm \n",
    "import random"
   ]
  },
  {
   "cell_type": "markdown",
   "id": "f772cb4b",
   "metadata": {},
   "source": [
    "### Load the DATASET"
   ]
  },
  {
   "cell_type": "code",
   "execution_count": 3,
   "id": "75a5dd5c",
   "metadata": {},
   "outputs": [
    {
     "data": {
      "text/html": [
       "<div>\n",
       "<style scoped>\n",
       "    .dataframe tbody tr th:only-of-type {\n",
       "        vertical-align: middle;\n",
       "    }\n",
       "\n",
       "    .dataframe tbody tr th {\n",
       "        vertical-align: top;\n",
       "    }\n",
       "\n",
       "    .dataframe thead th {\n",
       "        text-align: right;\n",
       "    }\n",
       "</style>\n",
       "<table border=\"1\" class=\"dataframe\">\n",
       "  <thead>\n",
       "    <tr style=\"text-align: right;\">\n",
       "      <th></th>\n",
       "      <th>modified_passage</th>\n",
       "      <th>label</th>\n",
       "      <th>mod_char_len</th>\n",
       "      <th>topic</th>\n",
       "    </tr>\n",
       "  </thead>\n",
       "  <tbody>\n",
       "    <tr>\n",
       "      <th>0</th>\n",
       "      <td>Exhibit 10.1 EXECUTION VERSION $485,000,000 C...</td>\n",
       "      <td>B</td>\n",
       "      <td>3516</td>\n",
       "      <td>1086</td>\n",
       "    </tr>\n",
       "    <tr>\n",
       "      <th>1</th>\n",
       "      <td>ION 6.08 Compliance with Material Laws SECTION...</td>\n",
       "      <td>B</td>\n",
       "      <td>3685</td>\n",
       "      <td>1086</td>\n",
       "    </tr>\n",
       "    <tr>\n",
       "      <th>2</th>\n",
       "      <td>xisting Liens 7.02 Existing Investments 7.03 E...</td>\n",
       "      <td>B</td>\n",
       "      <td>3474</td>\n",
       "      <td>1086</td>\n",
       "    </tr>\n",
       "    <tr>\n",
       "      <th>3</th>\n",
       "      <td>low #C# \" Acceptable Discount \" has the meanin...</td>\n",
       "      <td>B</td>\n",
       "      <td>3485</td>\n",
       "      <td>1086</td>\n",
       "    </tr>\n",
       "    <tr>\n",
       "      <th>4</th>\n",
       "      <td>intermediaries , Controls or is Controlled by ...</td>\n",
       "      <td>B</td>\n",
       "      <td>3334</td>\n",
       "      <td>1086</td>\n",
       "    </tr>\n",
       "  </tbody>\n",
       "</table>\n",
       "</div>"
      ],
      "text/plain": [
       "                                    modified_passage label  mod_char_len  \\\n",
       "0   Exhibit 10.1 EXECUTION VERSION $485,000,000 C...     B          3516   \n",
       "1  ION 6.08 Compliance with Material Laws SECTION...     B          3685   \n",
       "2  xisting Liens 7.02 Existing Investments 7.03 E...     B          3474   \n",
       "3  low #C# \" Acceptable Discount \" has the meanin...     B          3485   \n",
       "4  intermediaries , Controls or is Controlled by ...     B          3334   \n",
       "\n",
       "   topic  \n",
       "0   1086  \n",
       "1   1086  \n",
       "2   1086  \n",
       "3   1086  \n",
       "4   1086  "
      ]
     },
     "execution_count": 3,
     "metadata": {},
     "output_type": "execute_result"
    }
   ],
   "source": [
    "# Read the dataset\n",
    "topic = 1086  # Define your topic variable or use a placeholder\n",
    "data = pd.read_parquet(f'./passage_data/passage_level_data_with_overlapping_{topic}.parquet')\n",
    "data.head()"
   ]
  },
  {
   "cell_type": "markdown",
   "id": "c2a20e5a",
   "metadata": {},
   "source": [
    "### DATA is huge in size and also licenced. So can not show here. Working on sample data"
   ]
  },
  {
   "cell_type": "code",
   "execution_count": 4,
   "id": "a7a40f12",
   "metadata": {},
   "outputs": [
    {
     "name": "stdout",
     "output_type": "stream",
     "text": [
      "(219, 4)\n"
     ]
    },
    {
     "data": {
      "text/html": [
       "<div>\n",
       "<style scoped>\n",
       "    .dataframe tbody tr th:only-of-type {\n",
       "        vertical-align: middle;\n",
       "    }\n",
       "\n",
       "    .dataframe tbody tr th {\n",
       "        vertical-align: top;\n",
       "    }\n",
       "\n",
       "    .dataframe thead th {\n",
       "        text-align: right;\n",
       "    }\n",
       "</style>\n",
       "<table border=\"1\" class=\"dataframe\">\n",
       "  <thead>\n",
       "    <tr style=\"text-align: right;\">\n",
       "      <th></th>\n",
       "      <th>modified_passage</th>\n",
       "      <th>label</th>\n",
       "      <th>mod_char_len</th>\n",
       "      <th>topic</th>\n",
       "    </tr>\n",
       "  </thead>\n",
       "  <tbody>\n",
       "    <tr>\n",
       "      <th>0</th>\n",
       "      <td>after funding ) on the Closing Date specifying...</td>\n",
       "      <td>1</td>\n",
       "      <td>3401</td>\n",
       "      <td>1086</td>\n",
       "    </tr>\n",
       "    <tr>\n",
       "      <th>1</th>\n",
       "      <td>nder or any commercial institution satisfying ...</td>\n",
       "      <td>B</td>\n",
       "      <td>3372</td>\n",
       "      <td>1086</td>\n",
       "    </tr>\n",
       "    <tr>\n",
       "      <th>2</th>\n",
       "      <td>est rate or fee hereunder shall be conclusive ...</td>\n",
       "      <td>1</td>\n",
       "      <td>3259</td>\n",
       "      <td>1086</td>\n",
       "    </tr>\n",
       "    <tr>\n",
       "      <th>3</th>\n",
       "      <td>date , Type ( if applicable ) , amount and mat...</td>\n",
       "      <td>1</td>\n",
       "      <td>3060</td>\n",
       "      <td>1086</td>\n",
       "    </tr>\n",
       "    <tr>\n",
       "      <th>4</th>\n",
       "      <td>) Deposit Accounts , Electronic Chattel Paper...</td>\n",
       "      <td>B</td>\n",
       "      <td>3134</td>\n",
       "      <td>1086</td>\n",
       "    </tr>\n",
       "  </tbody>\n",
       "</table>\n",
       "</div>"
      ],
      "text/plain": [
       "                                    modified_passage label  mod_char_len  \\\n",
       "0  after funding ) on the Closing Date specifying...     1          3401   \n",
       "1  nder or any commercial institution satisfying ...     B          3372   \n",
       "2  est rate or fee hereunder shall be conclusive ...     1          3259   \n",
       "3  date , Type ( if applicable ) , amount and mat...     1          3060   \n",
       "4   ) Deposit Accounts , Electronic Chattel Paper...     B          3134   \n",
       "\n",
       "   topic  \n",
       "0   1086  \n",
       "1   1086  \n",
       "2   1086  \n",
       "3   1086  \n",
       "4   1086  "
      ]
     },
     "execution_count": 4,
     "metadata": {},
     "output_type": "execute_result"
    }
   ],
   "source": [
    "zeros = data[data['label'] == 'B']\n",
    "ones = data[data['label'] == '1']\n",
    "sample_zeros = zeros.sample(100, random_state=30)\n",
    "\n",
    "sample_data = pd.concat([sample_zeros, ones], axis=0).sample(frac=1, random_state=42).reset_index(drop=True)\n",
    "print(sample_data.shape)\n",
    "sample_data.head()\n",
    "    "
   ]
  },
  {
   "cell_type": "markdown",
   "id": "e9ce93b2",
   "metadata": {},
   "source": [
    "#### Clean the data"
   ]
  },
  {
   "cell_type": "code",
   "execution_count": 5,
   "id": "c75ffe04",
   "metadata": {},
   "outputs": [
    {
     "name": "stdout",
     "output_type": "stream",
     "text": [
      "                                       cleaned_passage label  topic\n",
      "0    after funding ) on the Closing Date specifying...     1   1086\n",
      "1    nder or any commercial institution satisfying ...     B   1086\n",
      "2    est rate or fee hereunder shall be conclusive ...     1   1086\n",
      "3    date , Type ( if applicable ) , amount and mat...     1   1086\n",
      "4    ) Deposit Accounts , Electronic Chattel Paper ...     B   1086\n",
      "..                                                 ...   ...    ...\n",
      "214  ayments of principal of the Term Loan shall re...     1   1086\n",
      "215  f this Section . Each Participant agrees to be...     B   1086\n",
      "216  which the certificate evidencing such computat...     B   1086\n",
      "217  the purchases and sales by such Lender of part...     1   1086\n",
      "218  where in the Loan Documents shal not apply wit...     1   1086\n",
      "\n",
      "[219 rows x 3 columns]\n"
     ]
    }
   ],
   "source": [
    "# Preprocessing function\n",
    "def preprocess_text(text):\n",
    "    # Remove unwanted characters\n",
    "    text = text.replace(\"#C#\", \"\").strip()\n",
    "    # Normalize spacing and punctuation\n",
    "    text = \" \".join(text.split())\n",
    "    return text\n",
    "\n",
    "# Apply preprocessing\n",
    "sample_data[\"cleaned_passage\"] = sample_data[\"modified_passage\"].apply(preprocess_text)\n",
    "print(sample_data[[\"cleaned_passage\", \"label\", \"topic\"]])"
   ]
  },
  {
   "cell_type": "markdown",
   "id": "11f4f7eb",
   "metadata": {},
   "source": [
    "### Embedding Genration: You can also use OpenAI embedding generation"
   ]
  },
  {
   "cell_type": "code",
   "execution_count": 7,
   "id": "957c654f",
   "metadata": {
    "scrolled": true
   },
   "outputs": [
    {
     "name": "stderr",
     "output_type": "stream",
     "text": [
      "100%|█████████████████████████████████████████| 219/219 [00:09<00:00, 21.92it/s]"
     ]
    },
    {
     "name": "stdout",
     "output_type": "stream",
     "text": [
      "[ 2.31927577e-02 -2.46506352e-02 -1.29306512e-02 -8.51152278e-03\n",
      " -1.09648677e-02 -8.64852965e-03  3.06400806e-02  1.06322207e-02\n",
      "  3.78217474e-02  4.00500819e-02  6.90262169e-02 -3.25891413e-02\n",
      " -4.63192128e-02 -6.56007184e-03 -3.68485898e-02  6.05104081e-02\n",
      " -8.30229651e-03 -3.86253633e-02 -5.17657287e-02  6.16331510e-02\n",
      "  1.27169684e-01 -5.32141291e-02 -3.73651111e-03  5.51545108e-03\n",
      "  1.74538288e-02 -2.87904441e-02  5.89907877e-02 -5.90526359e-03\n",
      "  4.28410359e-02  3.76238488e-02 -8.38205591e-03  1.05954194e-02\n",
      "  7.83458054e-02 -3.75164002e-02  3.06498036e-02  4.95666899e-02\n",
      "  1.50744310e-02  2.27196775e-02  2.69007999e-02  5.71823493e-03\n",
      "  2.22165808e-02 -3.12218592e-02  1.15293134e-02  2.25524200e-04\n",
      " -6.41522184e-02  2.69386377e-02  8.83344933e-03  4.71423008e-02\n",
      " -8.84262696e-02  5.49327880e-02 -5.20239249e-02 -3.06607373e-02\n",
      " -7.72719085e-03  5.50159737e-02 -2.27647256e-02  1.28251677e-02\n",
      "  4.65412177e-02 -4.05782498e-02 -6.46386668e-02 -7.40000699e-03\n",
      " -6.74363319e-03 -4.11058572e-04 -6.85232654e-02  2.25857124e-02\n",
      "  5.68427853e-02  1.92784406e-02 -5.42256003e-03 -4.29809690e-02\n",
      " -3.00093070e-02 -6.23896122e-02  1.59185212e-02 -5.93850799e-02\n",
      "  8.60138889e-03 -5.37244901e-02 -1.59757435e-02  1.22229010e-02\n",
      " -2.56913453e-02  1.00853316e-01 -2.61748978e-03 -9.08365324e-02\n",
      " -3.16426810e-03  3.00260484e-02  1.83921177e-02 -7.73162395e-02\n",
      " -9.55873430e-02  3.68194208e-02 -1.25736305e-02  4.97565791e-02\n",
      "  8.97616223e-02  3.90316769e-02  6.53740540e-02 -4.21024598e-02\n",
      "  2.24612784e-02 -6.76405877e-02 -2.19450127e-02 -4.56293225e-02\n",
      " -1.93553697e-03 -1.45538840e-02  3.68948542e-02  5.34957498e-02\n",
      " -5.13235689e-04  4.11666855e-02  5.07021214e-05 -1.71644930e-02\n",
      "  7.39036873e-02 -1.35255121e-02  3.37584689e-02 -6.24732599e-02\n",
      "  4.12119217e-02  2.62482297e-02 -5.95380291e-02 -7.40075193e-04\n",
      "  5.31139039e-02 -1.93531923e-02 -1.10633578e-02  3.42865847e-02\n",
      " -7.31899962e-02  3.77645977e-02  1.18295029e-01 -9.00364742e-02\n",
      "  8.42941031e-02  6.50501549e-02 -2.96378247e-02 -3.57196406e-02\n",
      " -1.20990546e-02  5.29061556e-02 -6.82469131e-03  4.02642851e-33\n",
      " -1.02796534e-03 -5.49622513e-02 -2.47855019e-02  3.35500389e-02\n",
      " -4.31345776e-02  2.28179805e-03 -1.42972618e-02  2.74032857e-02\n",
      " -2.12397017e-02  4.81499955e-02  1.32182557e-02 -5.79133518e-02\n",
      " -1.39042856e-02 -8.23168308e-02 -6.03041574e-02 -3.96610498e-02\n",
      "  2.77497359e-02  7.52551556e-02  8.08306634e-02  9.55994576e-02\n",
      "  6.50712848e-02 -2.73220912e-02  2.63297781e-02 -3.93222878e-03\n",
      "  3.23950276e-02 -8.89891833e-02 -3.06998324e-02  2.14601420e-02\n",
      "  7.58042186e-03 -5.08291423e-02  2.74189524e-02  6.42222464e-02\n",
      "  7.57251829e-02  6.18715249e-02 -1.99659672e-02  2.20861589e-03\n",
      "  1.52218072e-02 -3.49402316e-02  6.67437837e-02 -3.02707367e-02\n",
      "  4.83437441e-02  8.14576261e-03 -4.55854833e-03 -5.95217906e-02\n",
      "  8.28490779e-03 -7.55944774e-02  2.23207716e-02  6.83409953e-03\n",
      "  6.77493960e-02  1.00047253e-01 -6.34507602e-03  8.03551637e-03\n",
      " -7.11464584e-02  1.21044973e-03 -5.47704063e-02 -3.23910429e-03\n",
      " -8.18100479e-03 -3.94650400e-02 -5.89437373e-02 -4.81924750e-02\n",
      " -4.46579084e-02 -7.67808631e-02  3.99087630e-02  1.11858016e-02\n",
      " -7.40891919e-02 -4.73472662e-03  1.98433809e-02  2.71481592e-02\n",
      "  2.31398586e-02  2.40313914e-03 -1.42167926e-01 -2.14099549e-02\n",
      " -3.40219773e-02  2.97137666e-02 -3.24048176e-02 -5.35688810e-02\n",
      "  7.18539879e-02  5.27014360e-02  5.12721799e-02  2.99392245e-03\n",
      "  2.81800833e-02  2.76839826e-02  8.46682396e-03  1.30781025e-01\n",
      "  4.31545563e-02  6.92809150e-02  4.04334590e-02 -3.93745080e-02\n",
      " -5.57201682e-03 -3.23321968e-02 -1.13729835e-01 -6.36324808e-02\n",
      " -5.94756864e-02  8.67676213e-02  1.27559215e-01 -5.97205460e-33\n",
      "  3.22581381e-02 -8.09327886e-02 -9.54614282e-02  1.63700059e-02\n",
      " -2.91288868e-02  6.58613862e-03 -8.62772390e-02  1.89123284e-02\n",
      " -1.92282908e-03 -2.52638198e-02 -1.60699897e-02  9.49612062e-04\n",
      "  5.40389083e-02  5.93240261e-02 -1.73542202e-02 -4.80951145e-02\n",
      "  6.05199821e-02  2.33260132e-02  2.40728464e-02  2.96525043e-02\n",
      "  4.37641852e-02 -3.01638395e-02  4.67061438e-02 -1.06703460e-01\n",
      " -5.36967395e-03  8.70158337e-03 -9.71648656e-03  6.68582544e-02\n",
      " -7.93237761e-02  5.13881370e-02 -3.38989496e-03 -3.52258794e-02\n",
      " -6.16938099e-02  5.38942777e-02 -2.41126735e-02 -6.71847239e-02\n",
      "  4.36820723e-02 -2.81357057e-02 -1.68959480e-02  1.01704158e-01\n",
      "  1.09975509e-01 -1.46336723e-02  1.83067843e-02 -5.26360497e-02\n",
      "  3.40736695e-02 -2.59866100e-02  1.49108572e-02 -6.68253377e-02\n",
      " -8.54299515e-02 -1.54940551e-02 -7.20580369e-02 -6.59354031e-02\n",
      " -7.10532628e-03  4.05856930e-02 -8.91171396e-03  3.99586074e-02\n",
      "  1.65810406e-01 -7.38330279e-03  4.52698022e-02 -4.48029749e-02\n",
      " -3.84059735e-02  5.34020662e-02 -1.28301615e-02 -3.24020325e-03\n",
      " -1.46962525e-02 -6.06033653e-02  4.67353761e-02 -5.15491031e-02\n",
      "  9.95888188e-02 -7.79775111e-03  4.17522900e-02 -3.01078521e-02\n",
      " -4.00780551e-02  2.33031344e-02  4.92941588e-02  2.23179348e-02\n",
      "  2.16300730e-02 -9.15936306e-02 -3.48642468e-02 -9.23908576e-02\n",
      " -8.35077167e-02  9.29902494e-02 -1.75699983e-02  2.83160023e-02\n",
      "  1.06444340e-02 -3.76784019e-02  8.36803839e-02 -4.69966531e-02\n",
      " -9.09141172e-03  9.43485461e-03  4.63489443e-03  5.59738912e-02\n",
      "  4.11698408e-02  4.40985188e-02 -6.18053488e-02 -5.67019462e-08\n",
      " -2.93683689e-02  4.58830222e-02 -4.29291949e-02 -2.17070766e-02\n",
      "  1.57451034e-01 -6.98458403e-02 -2.02813819e-02 -8.83071497e-02\n",
      " -2.28931699e-02 -4.35238071e-02  1.35009423e-01  3.54750603e-02\n",
      " -2.05095597e-02 -6.19539022e-02 -4.55591269e-02 -3.11736036e-02\n",
      " -5.65159619e-02 -1.00530759e-01 -7.19545856e-02  9.35237575e-03\n",
      " -4.51031923e-02 -3.80079299e-02  1.65002812e-02 -9.44727100e-03\n",
      " -6.36416301e-03 -7.85210505e-02  4.49769758e-02  1.43939689e-01\n",
      "  3.85063398e-03  6.80477321e-02 -2.73789801e-02  9.23882127e-02\n",
      "  1.26233688e-02 -3.69995199e-02 -2.53006686e-02  4.05797921e-02\n",
      " -9.18024965e-03 -2.06860173e-02  3.72263864e-02  2.59732958e-02\n",
      " -3.07525489e-02 -5.96393049e-02 -1.74974874e-02 -6.87431172e-03\n",
      "  8.30634832e-02 -6.99118385e-03 -9.92729291e-02 -2.33527664e-02\n",
      "  8.24101940e-02 -1.13452099e-01 -7.90624321e-02  1.13476291e-02\n",
      "  3.16750668e-02  4.73785624e-02  3.74532975e-02 -6.49701133e-02\n",
      " -1.53296790e-03  7.27583244e-02  3.17960568e-02 -6.86219260e-02\n",
      " -1.49053056e-02  1.55761428e-02 -3.71957570e-02 -8.86054859e-02]\n"
     ]
    },
    {
     "name": "stderr",
     "output_type": "stream",
     "text": [
      "\n"
     ]
    }
   ],
   "source": [
    " # Load a pre-trained Sentence-BERT model\n",
    "model = SentenceTransformer('all-MiniLM-L6-v2')\n",
    "\n",
    "# Enable progress bar\n",
    "tqdm.pandas()\n",
    "\n",
    "# Generate embeddings for the cleaned passages with progress bar\n",
    "sample_data[\"embeddings\"] = sample_data[\"cleaned_passage\"].progress_apply(lambda x: model.encode(x))\n",
    "\n",
    "# Example: print the first embedding\n",
    "print(sample_data[\"embeddings\"].iloc[0])"
   ]
  },
  {
   "cell_type": "markdown",
   "id": "80ef8119",
   "metadata": {},
   "source": [
    "#### Store the Embeddings"
   ]
  },
  {
   "cell_type": "code",
   "execution_count": 8,
   "id": "a9f4e5fb",
   "metadata": {},
   "outputs": [],
   "source": [
    "import faiss\n",
    "import numpy as np\n",
    "\n",
    "# Convert embeddings to a numpy array\n",
    "embedding_matrix = np.vstack(sample_data[\"embeddings\"])\n",
    "\n",
    "# Create and index with FAISS\n",
    "dimension = embedding_matrix.shape[1]  # Embedding dimension\n",
    "index = faiss.IndexFlatL2(dimension)   # L2 distance metric\n",
    "index.add(embedding_matrix)            # Add embeddings to the index\n",
    "\n",
    "# Save the FAISS index\n",
    "faiss.write_index(index, \"faiss_index_1086\")"
   ]
  },
  {
   "cell_type": "markdown",
   "id": "16ddf494",
   "metadata": {},
   "source": [
    "### Generating Queries from GPT"
   ]
  },
  {
   "cell_type": "markdown",
   "id": "1216bb9a",
   "metadata": {},
   "source": [
    "### Since, we did not have queries for the dataset, so first, we will clustere the risky sentences, then generate the one query per cluster. "
   ]
  },
  {
   "cell_type": "markdown",
   "id": "912f38b2",
   "metadata": {},
   "source": [
    "#### Clustering"
   ]
  },
  {
   "cell_type": "code",
   "execution_count": 9,
   "id": "dcfe649a",
   "metadata": {},
   "outputs": [],
   "source": [
    "from sklearn.cluster import KMeans\n",
    "import pandas as pd\n",
    "import numpy as np\n",
    "from sentence_transformers import SentenceTransformer\n",
    "\n",
    "# Filter risky passages\n",
    "risky_data = sample_data[sample_data['label'] == '1']\n",
    "\n",
    "# Convert embeddings to a numpy array\n",
    "embedding_matrix = np.vstack(risky_data[\"embeddings\"])"
   ]
  },
  {
   "cell_type": "code",
   "execution_count": 10,
   "id": "a73fb50b",
   "metadata": {},
   "outputs": [
    {
     "data": {
      "text/plain": [
       "array([[ 0.02319276, -0.02465064, -0.01293065, ...,  0.01557614,\n",
       "        -0.03719576, -0.08860549],\n",
       "       [-0.06431529,  0.00539678, -0.04915885, ...,  0.02383379,\n",
       "        -0.05021168, -0.10217438],\n",
       "       [-0.09562206,  0.02552925, -0.04925814, ...,  0.01886895,\n",
       "        -0.02823679, -0.1048939 ],\n",
       "       ...,\n",
       "       [-0.04469597, -0.02036622, -0.04697559, ...,  0.00567595,\n",
       "         0.01464895, -0.07826757],\n",
       "       [-0.09136903,  0.03798277, -0.06876964, ...,  0.00981596,\n",
       "        -0.03842178, -0.08457632],\n",
       "       [-0.0410451 , -0.05131297,  0.02114981, ...,  0.04074522,\n",
       "        -0.01674086, -0.08560471]], dtype=float32)"
      ]
     },
     "execution_count": 10,
     "metadata": {},
     "output_type": "execute_result"
    }
   ],
   "source": [
    "embedding_matrix"
   ]
  },
  {
   "cell_type": "code",
   "execution_count": 11,
   "id": "380b477c",
   "metadata": {},
   "outputs": [
    {
     "name": "stderr",
     "output_type": "stream",
     "text": [
      "/var/folders/ll/hqtjh2m5481_qkt_4p9g5v940000gn/T/ipykernel_73146/452152932.py:6: SettingWithCopyWarning: \n",
      "A value is trying to be set on a copy of a slice from a DataFrame.\n",
      "Try using .loc[row_indexer,col_indexer] = value instead\n",
      "\n",
      "See the caveats in the documentation: https://pandas.pydata.org/pandas-docs/stable/user_guide/indexing.html#returning-a-view-versus-a-copy\n",
      "  risky_data[\"cluster_id\"] = cluster_ids\n"
     ]
    }
   ],
   "source": [
    "from scipy.cluster.vq import kmeans, vq\n",
    "num_clusters = 5\n",
    "# Perform k-means clustering\n",
    "centroids, distortion = kmeans(embedding_matrix, num_clusters)\n",
    "cluster_ids, _ = vq(embedding_matrix, centroids)\n",
    "risky_data[\"cluster_id\"] = cluster_ids"
   ]
  },
  {
   "cell_type": "code",
   "execution_count": 12,
   "id": "b782cc57",
   "metadata": {},
   "outputs": [
    {
     "data": {
      "text/html": [
       "<div>\n",
       "<style scoped>\n",
       "    .dataframe tbody tr th:only-of-type {\n",
       "        vertical-align: middle;\n",
       "    }\n",
       "\n",
       "    .dataframe tbody tr th {\n",
       "        vertical-align: top;\n",
       "    }\n",
       "\n",
       "    .dataframe thead th {\n",
       "        text-align: right;\n",
       "    }\n",
       "</style>\n",
       "<table border=\"1\" class=\"dataframe\">\n",
       "  <thead>\n",
       "    <tr style=\"text-align: right;\">\n",
       "      <th></th>\n",
       "      <th>modified_passage</th>\n",
       "      <th>label</th>\n",
       "      <th>mod_char_len</th>\n",
       "      <th>topic</th>\n",
       "      <th>cleaned_passage</th>\n",
       "      <th>embeddings</th>\n",
       "      <th>cluster_id</th>\n",
       "    </tr>\n",
       "  </thead>\n",
       "  <tbody>\n",
       "    <tr>\n",
       "      <th>0</th>\n",
       "      <td>after funding ) on the Closing Date specifying...</td>\n",
       "      <td>1</td>\n",
       "      <td>3401</td>\n",
       "      <td>1086</td>\n",
       "      <td>after funding ) on the Closing Date specifying...</td>\n",
       "      <td>[0.023192758, -0.024650635, -0.012930651, -0.0...</td>\n",
       "      <td>2</td>\n",
       "    </tr>\n",
       "    <tr>\n",
       "      <th>2</th>\n",
       "      <td>est rate or fee hereunder shall be conclusive ...</td>\n",
       "      <td>1</td>\n",
       "      <td>3259</td>\n",
       "      <td>1086</td>\n",
       "      <td>est rate or fee hereunder shall be conclusive ...</td>\n",
       "      <td>[-0.06431529, 0.0053967778, -0.04915885, 0.023...</td>\n",
       "      <td>3</td>\n",
       "    </tr>\n",
       "    <tr>\n",
       "      <th>3</th>\n",
       "      <td>date , Type ( if applicable ) , amount and mat...</td>\n",
       "      <td>1</td>\n",
       "      <td>3060</td>\n",
       "      <td>1086</td>\n",
       "      <td>date , Type ( if applicable ) , amount and mat...</td>\n",
       "      <td>[-0.095622055, 0.02552925, -0.049258143, -0.02...</td>\n",
       "      <td>4</td>\n",
       "    </tr>\n",
       "    <tr>\n",
       "      <th>5</th>\n",
       "      <td>igated to make any Swing Loan at a time when a...</td>\n",
       "      <td>1</td>\n",
       "      <td>3413</td>\n",
       "      <td>1086</td>\n",
       "      <td>igated to make any Swing Loan at a time when a...</td>\n",
       "      <td>[-0.048400756, -0.044329226, -0.026442688, -0....</td>\n",
       "      <td>2</td>\n",
       "    </tr>\n",
       "    <tr>\n",
       "      <th>6</th>\n",
       "      <td>dvise each Lender of the details thereof and o...</td>\n",
       "      <td>1</td>\n",
       "      <td>3430</td>\n",
       "      <td>1086</td>\n",
       "      <td>dvise each Lender of the details thereof and o...</td>\n",
       "      <td>[-0.036808092, -0.043166127, 0.05696466, -0.06...</td>\n",
       "      <td>0</td>\n",
       "    </tr>\n",
       "  </tbody>\n",
       "</table>\n",
       "</div>"
      ],
      "text/plain": [
       "                                    modified_passage label  mod_char_len  \\\n",
       "0  after funding ) on the Closing Date specifying...     1          3401   \n",
       "2  est rate or fee hereunder shall be conclusive ...     1          3259   \n",
       "3  date , Type ( if applicable ) , amount and mat...     1          3060   \n",
       "5  igated to make any Swing Loan at a time when a...     1          3413   \n",
       "6  dvise each Lender of the details thereof and o...     1          3430   \n",
       "\n",
       "   topic                                    cleaned_passage  \\\n",
       "0   1086  after funding ) on the Closing Date specifying...   \n",
       "2   1086  est rate or fee hereunder shall be conclusive ...   \n",
       "3   1086  date , Type ( if applicable ) , amount and mat...   \n",
       "5   1086  igated to make any Swing Loan at a time when a...   \n",
       "6   1086  dvise each Lender of the details thereof and o...   \n",
       "\n",
       "                                          embeddings  cluster_id  \n",
       "0  [0.023192758, -0.024650635, -0.012930651, -0.0...           2  \n",
       "2  [-0.06431529, 0.0053967778, -0.04915885, 0.023...           3  \n",
       "3  [-0.095622055, 0.02552925, -0.049258143, -0.02...           4  \n",
       "5  [-0.048400756, -0.044329226, -0.026442688, -0....           2  \n",
       "6  [-0.036808092, -0.043166127, 0.05696466, -0.06...           0  "
      ]
     },
     "execution_count": 12,
     "metadata": {},
     "output_type": "execute_result"
    }
   ],
   "source": [
    "risky_data.head()"
   ]
  },
  {
   "cell_type": "code",
   "execution_count": 13,
   "id": "aa06fd47",
   "metadata": {},
   "outputs": [
    {
     "name": "stdout",
     "output_type": "stream",
     "text": [
      "                                       cleaned_passage  cluster_id\n",
      "0    after funding ) on the Closing Date specifying...           2\n",
      "2    est rate or fee hereunder shall be conclusive ...           3\n",
      "3    date , Type ( if applicable ) , amount and mat...           4\n",
      "5    igated to make any Swing Loan at a time when a...           2\n",
      "6    dvise each Lender of the details thereof and o...           0\n",
      "..                                                 ...         ...\n",
      "210  th their respective Commitments of such Class ...           4\n",
      "212  at the Payment Office the aggregate of the amo...           4\n",
      "214  ayments of principal of the Term Loan shall re...           2\n",
      "217  the purchases and sales by such Lender of part...           4\n",
      "218  where in the Loan Documents shal not apply wit...           2\n",
      "\n",
      "[119 rows x 2 columns]\n"
     ]
    }
   ],
   "source": [
    "# Display clustered data\n",
    "print(risky_data[[\"cleaned_passage\", \"cluster_id\"]])"
   ]
  },
  {
   "cell_type": "markdown",
   "id": "61030f9d",
   "metadata": {},
   "source": [
    "#### Identify the most representative sentence for each cluster to feed in the LLM"
   ]
  },
  {
   "cell_type": "code",
   "execution_count": 15,
   "id": "86371b9a",
   "metadata": {
    "collapsed": true
   },
   "outputs": [
    {
     "name": "stdout",
     "output_type": "stream",
     "text": [
      "{0: 'to be a Borrowing of Revolving Loans or Term Loans ; ( b ) the aggregate amount of such Borrowing ; ( c ) the date of such Borrowing , which shall be a Business Day ; ( d ) whether such Borrowing is to be an ABR Borrowing or a Eurodollar Borrowing ; ( e ) in the case of a Eurodollar Borrowing , the initial Interest Period to be applicable thereto , which shall be a period contemplated by the definition of \" Interest Period \" ; ( f ) the location and number of the Borrower \\'s account to which funds are to be disbursed , which shall comply with the requirements of Section 2.02 ( c ) and ( g ) if and to the extent required under Section 4.01 , that the conditions set forth in clauses ( a ) and ( b ) of Section 4.01 are satisfied as of the date of the notice . If no election as to the Type of Borrowing is specified in any such notice , then the requested Borrowing shall be an ABR Borrowing . If no Interest Period with respect to any requested Eurodollar Revolving Borrowing is specified in any such notice , then the Borrower shall be deemed to have selected an Interest Period of one month \\'s duration . Promptly following receipt of a Request for Credit Extension in accordance with this Section 2.03 , the Administrative Agent shall advise each Lender of the details thereof and of the amount of such Lender \\'s Loan to be made as part of the requested Borrowing . Section 2.04. Evidence of Debt ; Repayment of Loans . ( a ) The Borrower hereby unconditionally promises to pay to ( i ) the Administrative Agent for the account of each Term Lender , the principal amount of each Term Loan of such Term Lender as provided in Section 2.11 ( or , in the case of Extended Term Loans , Incremental Term Loans or Other Term Loans , as provided for in the applicable Extension Offer , Incremental Amendment or Refinancing Amendment ) and ( ii ) the Administrative Agent for the account of each Revolving Lender , the unpaid principal amount of each Revolving Loan of such Revolving 70 Lender on the Revolving Maturity Date ( or , in the case of Extended Revolving Loans or Other Revolving Loans , as provided for in the applicable Extension Amendment or Refinancing Amendment ) . ( b ) Each Lender shall maintain in accordance with its usual practice an account or accounts evidencing the indebtedness of the Borrower to such Lender resulting from each Loan made by such Lender from time to time , including the amounts of principal and interest payable and paid to such Lender from time to time under this Agreement . ( c ) The Administrative Agent shall maintain accounts in which it will record ( i ) the amount of each Loan made hereunder , the Type and Class thereof and , if applicable , the Interest Period applicable thereto , ( ii ) the amount of any principal or interest due and payable or to become due and payable from the Borrower to each Lender hereunder , and ( iii ) the amount of any sum received by the Administrative Agent hereunder for the account of the Lenders and each Lender \\'s share thereof . ( d ) The entries made in the accounts maintained pursuant to Sections 2.04 ( b ) and 2.04 ( c ) shall be prima facie evidence of the existence and amounts of the obligations therein recorded ; provided that the failure of any Lender or the Administrative Agent to maintain such accounts or any error therein shall not in any manner affect the obligations of the Borrower and the other Loan Parties to pay , and perform , the Obligations in accordance with the Loan Documents .', 1: \"y ) for each period during such quarter that such Applicable Rate was in effect . ( b ) Other Fees . The Borrower shall pay to the Administrative Agent and / or the Lenders , as applicable , such other fees as may be set forth herein ( including those set forth in Section 2.03 ( h ) and 2.03 ( i ) ) or as shall have been separately agreed upon in writing ( including pursuant to the Fee Letters ) in the amounts and at the times so specified . Such fees shall be fully earned when paid and shall not be refundable for any reason whatsoever . 34 2.10 Computation of Interest and Fees ; Retroactive Adjustments of Applicable Rate . ( a ) All computations of interest for Base Rate Loans based on the prime commercial lending rate of the Administrative Agent shall be made on the basis of a year of 365 or 366 days , as the case may be , and actual days elapsed . All other computations of fees and interest shall be made on the basis of a 360-day year and actual days elapsed ( which results in more fees or interest , as applicable , being paid than if computed on the basis of a 365-day year ) . Interest shall accrue on each Loan for the day on which the Loan is made , and shall not accrue on a Loan , or any portion thereof , for the day on which the Loan or such portion is paid , provided that any Loan that is repaid on the same day on which it is made shall , subject to Section 2.12 ( a ) , bear interest for one day . ( b ) If , as a result of any restatement of or other adjustment to the financial statements of the Parent or for any other reason , the Parent or the Required Lenders determine that ( i ) the Consolidated Leverage Ratio as calculated by the Parent as of any applicable date was inaccurate and ( ii ) a proper calculation of the Consolidated Leverage Ratio would have resulted in higher pricing for such period , the Borrower shall immediately and retroactively be obligated to pay to the Administrative Agent for the account of the applicable Lenders ( or former Lenders ) , promptly on demand by the Administrative Agent ( or , after the occurrence of an actual or deemed entry of an order for relief with respect to the Borrower under the Bankruptcy Code of the United States , automatically and without further action by the Administrative Agent or any Lender ) , an amount equal to the excess of the amount of interest and fees that should have been paid for such period over the amount of interest and fees actually paid for such period . This paragraph shall not limit the rights of the Administrative Agent or any Lender , as the case may be , under Section 2.08 ( b ) or under Article VIII . The Borrower 's obligations under this paragraph shall survive the termination of the Aggregate Commitment and the repayment of all other Obligations hereunder . The failure of any Swing Line Lender to make any Swing Line Loan required to be made by it shall not relieve any other Swing Line Lender of its obligations hereunder ; provided that the commitments of the Swing Line Lenders are several and no Swing Line Lender shall be responsible for any other Swing Line Lender 's failure to make Swing Line Loans as required . 2.11 Evidence of Debt . ( a ) The Credit Extensions made by each Lender , each L / C Issuer and each Swing Line Lender shall be evidenced by one or more accounts or records maintained by such Lender , such L / C Issuer or such Swing Line Lender and by the Administrative Agent in the ordinary course of business .\", 2: \"ents thereof . Each notice delivered by the Borrower pursuant to this Section shall be irrevocable ; provided that a notice of termination of the Revolving Loan Commitments delivered by the Borrower may state that such notice is conditioned upon the effectiveness of other credit facilities or other transactions specified therein , in which case such notice may be revoked by the Borrower ( by notice to the Administrative Agent on or prior to the specified effective date ) if such condition is not satisfied . Any termination or reduction of the Revolving Loan Commitments shall be permanent . Each reduction of the Revolving Loan Commitments shall be made ratably among the Lenders with Revolving Loan Commitments in accordance with their respective Revolving Loan Commitments . Section 2.09. Repayment of Loans ; Evidence of Debt . ( a ) The Borrower hereby unconditionally promises to pay ( i ) to the Administrative Agent for the account of each Lender the then unpaid principal amount of each Loan on the Maturity Date , and ( ii ) to the Swingline Lender the then unpaid principal amount of each Swingline Loan on the earlier of the Maturity Date and the fifth ( 5 ) Business Day after such Swingline Loan is made ; provided that on each date that a Revolving Borrowing is made , the Borrower th shall repay all Swingline Loans then outstanding . ( b ) Each Lender shall maintain in accordance with its usual practice an account or accounts evidencing the indebtedness of the Borrower to such Lender resulting from each Loan made by such Lender , including the amounts of principal and interest payable and paid to such Lender from time to time hereunder . ( c ) The Administrative Agent shall maintain accounts in which it shall record ( i ) the amount of each Loan made hereunder , the Class and Type thereof and the Interest Period applicable thereto , ( ii ) the amount of any principal or interest due and payable or to become due and payable from the Borrower to each Lender hereunder and ( iii ) the amount of any sum received by the Administrative Agent hereunder for the account of the Lenders and each Lender 's share thereof . ( d ) The entries made in the accounts maintained pursuant to paragraph ( b ) or ( c ) of this Section shall be prima facie evidence of the existence and amounts of the obligations recorded therein ; provided that the failure of any Lender or the Administrative Agent to maintain such accounts or any error therein shall not in any manner affect the obligation of the Borrower to repay the Loans in accordance with the terms of this Agreement . 36 ( e ) Any Lender may request that Loans made by it be evidenced by a promissory note . In such event , the Borrower shall prepare , execute and deliver to such Lender a promissory note payable to such Lender ( or , if requested by such Lender , to such Lender and its registered assigns ) in the form attached hereto as Exhibit C . Thereafter , the Loans evidenced by such promissory note and interest thereon shall at all times ( including after assignment pursuant to Section 9.04 ) be represented by such promissory note in such form . Section 2.10. Prepayment of Loans . ( a ) The Borrower shall have the right at any time and from time to time to prepay any Borrowing in whole or in part , in integral multiples of $100,000 and not less than $1,000,000 , subject to prior notice in accordance with paragraph ( b ) of this Section .\", 3: \"est rate or fee hereunder shall be conclusive and binding for all purposes , absent manifest error . ( b ) If , as a result of any restatement of or other adjustment to the financial statements of the Borrowers or for any other reason , the Borrowers or the Administrative Agent determine that ( i ) Consolidated Net Leverage Ratio as calculated by the Borrowers as of any applicable date was inaccurate and ( ii ) a proper calculation of such ratio would have resulted in higher pricing for such period , the Borrowers shall immediately and retroactively be obligated to pay to the Administrative Agent for the account of the applicable Lenders or the applicable L / C Issuer , as the case may be , promptly on demand by the Administrative Agent ( or , after the occurrence of an actual or deemed entry of an order for relief with respect to a Borrower under any Debtor Relief Law , automatically and without further action by the Administrative Agent , any Lender or any L / C Issuer ) , an amount equal to the excess of the amount of interest and fees that should have been paid for such period over the amount of interest and fees actually paid for such period . This paragraph shall not limit the rights of the Administrative Agent , any Lender or the L / C Issuer , as the case may be , under Sections 2.03 ( c ) ( iii ) , 2.03 ( h ) or 2.08 ( b ) or under Article VIII . The Borrowers ' obligations under this Section 2.10 ( b ) shall survive the termination of the Commitments and the repayment of all other Obligations hereunder for the limited period ending one month following the date of the annual audited financial statements of the Parent and its Subsidiaries that include the period during which such termination and repayment occurred . - 65- 2.11 Evidence of Debt . ( a ) The Credit Extensions made by each Lender and each L / C Issuer shall be evidenced by one or more accounts or records maintained by such Lender or L / C Issuer and by the Administrative Agent in the ordinary course of business . The accounts or records maintained by the Administrative Agent and each Lender or L / C Issuer shall be conclusive absent manifest error of the amount of the Credit Extensions made by the Lenders and / or the L / C Issuers to or for the account of the Borrowers and the interest and payments thereon . Any failure to so record or any error in doing so shall not , however , limit or otherwise affect the obligation of the Borrowers hereunder to pay any amount owing with respect to the Obligations . In the event of any conflict between the accounts and records maintained by any Lender and the accounts and records of the Administrative Agent in respect of such matters , the accounts and records of the Administrative Agent shall control in the absence of manifest error . Upon the request of any Lender to the Borrowers made through the Administrative Agent , the Borrowers shall execute and deliver to such Lender ( through the Administrative Agent ) Note ( s ) , which shall evidence such Lender 's Loans to the Borrowers , in addition to such accounts or records . Each Lender may attach schedules to its Note and endorse thereon the date , Type ( if applicable ) , amount and maturity of its Loans and payments with respect thereto .\", 4: \"of the Credit Extensions made by the Lenders to the Borrower and the interest and payments thereon . Any failure to so record or any error in doing so shall not , however , limit or otherwise affect the obligation of the Borrower hereunder to pay any amount owing with respect to the Obligations . In the event of any conflict between the accounts and records maintained by any Lender and the accounts and records of the Administrative Agent in respect of such matters , the accounts and records of the Administrative Agent shall control in the absence of manifest error . Upon the request of any Lender made through the Administrative Agent , the Borrower shall execute and deliver to such Lender ( through the Administrative Agent ) the applicable Note ( s ) , which shall evidence such Lender 's Loans in addition to such accounts or records . Each Lender may attach schedules to its Note and endorse thereon the date , Type ( if applicable ) , amount , currency and maturity of its Loans and payments with respect thereto . ( b ) In addition to the accounts and records referred to in subsection ( a ) , each Lender and the Administrative Agent shall maintain in accordance with its usual practice accounts or records evidencing the purchases and sales by such Lender of participations in Letters of Credit and Swing Line Loans . In the event of any conflict between the accounts and records maintained by the Administrative Agent and the accounts and records of any Lender in respect of such matters , the accounts and records of the Administrative Agent shall control in the absence of manifest error . 2.12 Payments Generally ; Administrative Agent 's Clawback . ( a ) General . All payments to be made by a Credit Party shall be made without condition or deduction for any counterclaim , defense , recoupment or setoff . Except as otherwise expressly provided herein and except with respect to principal of and interest on Loans denominated in an Alternative Currency , all payments by a Credit Party hereunder shall be made to the Administrative Agent , for the account of the respective Lenders to which such payment is owed , at the applicable Administrative Agent 's Office in Dollars and in Same Day Funds not later than 11 00 a.m. on the date specified herein . Except as otherwise expressly provided herein , all payments by the Borrower hereunder with respect to principal and interest on Loans denominated in an Alternative Currency shall be made to the Administrative Agent , for the account of the respective Lenders to which such payment is owed , at the applicable Administrative Agent 's Office in such Alternative Currency and in Same Day Funds not later than the Applicable Time specified by the Administrative Agent on the dates specified herein . Without limiting the generality of the foregoing , the Administrative Agent may require that any payments due under this Agreement be made in the United States . If , for any reason , the Borrower is prohibited by any Law from making any required payment hereunder in an Alternative Currency , the Borrower shall make such payment in Dollars in the Dollar Equivalent of the Alternative Currency payment amount .\"}\n"
     ]
    }
   ],
   "source": [
    "import numpy as np\n",
    "from sklearn.metrics.pairwise import cosine_similarity\n",
    "\n",
    "# Find the most representative sentence for each cluster\n",
    "cluster_queries = {}\n",
    "for cluster_id in range(num_clusters):\n",
    "    # Get embeddings for the current cluster\n",
    "    cluster_embeddings = embedding_matrix[risky_data[\"cluster_id\"] == cluster_id]\n",
    "    \n",
    "    # Get the centroid for the current cluster\n",
    "    centroid = centroids[cluster_id].reshape(1, -1)\n",
    "    \n",
    "    # Calculate cosine similarities\n",
    "    similarities = cosine_similarity(cluster_embeddings, centroid)\n",
    "    \n",
    "    # Find the index of the most representative sentence (highest similarity)\n",
    "    most_representative_idx = np.argmax(similarities)\n",
    "    \n",
    "    # Retrieve the most representative sentence for the cluster\n",
    "    representative_sentence = risky_data[risky_data[\"cluster_id\"] == cluster_id][\"cleaned_passage\"].iloc[most_representative_idx]\n",
    "    cluster_queries[cluster_id] = representative_sentence\n",
    "\n",
    "# Output the representative sentences for each cluster\n",
    "print(cluster_queries)"
   ]
  },
  {
   "cell_type": "markdown",
   "id": "b0fbd9ca",
   "metadata": {},
   "source": [
    "#### Generate queries"
   ]
  },
  {
   "cell_type": "code",
   "execution_count": 19,
   "id": "649ead78",
   "metadata": {},
   "outputs": [],
   "source": [
    "import openai\n",
    "\n",
    "# Set your API key\n",
    "openai.api_key = \"Your OpenAI key\"\n",
    "\n",
    "# Generate queries for each cluster\n",
    "generated_queries = {}\n",
    "for cluster_id, representative_sentence in cluster_queries.items():\n",
    "    prompt = f\"\"\"\n",
    "    I have a dataset of legal sentences labeled as risky. Based on the following examples, generate a query that a lawyer might ask to identify similar risks:\n",
    "    Query should always in the form of a question. \n",
    "    Example:\n",
    "    Risky Sentence: \"If the contract is terminated before completion, the client will incur a 50% penalty.\"\n",
    "    Query: \"What are the financial risks associated with termination clauses?\"\n",
    "\n",
    "    Now generate a query for this risky sentence:\n",
    "    \"{representative_sentence}\"\n",
    "    \"\"\"\n",
    "    response = openai.ChatCompletion.create(\n",
    "        model=\"gpt-4o-mini\",\n",
    "        messages=[{\"role\": \"system\", \"content\": \"You are a helpful assistant.\"},\n",
    "                  {\"role\": \"user\", \"content\": prompt}]\n",
    "    )\n",
    "    query = response['choices'][0]['message']['content'].strip()\n",
    "    generated_queries[cluster_id] = query"
   ]
  },
  {
   "cell_type": "code",
   "execution_count": 20,
   "id": "b28a94bd",
   "metadata": {},
   "outputs": [
    {
     "name": "stdout",
     "output_type": "stream",
     "text": [
      "{0: '\"What potential liabilities arise from the structuring of loan agreements under varying types of borrowings?\"', 1: '\"What potential liabilities arise from retroactive adjustments to interest rates and fees in loan agreements?\"', 2: '\"What are the risks associated with conditions placed on loan termination and commitment modifications?\"', 3: '\"What potential liabilities arise from inaccuracies in the calculation of financial ratios in loan agreements?\"', 4: 'What are the risks associated with discrepancies between the accounts or records of the Lenders and the Administrative Agent in loan agreements?'}\n"
     ]
    }
   ],
   "source": [
    "print(generated_queries)"
   ]
  },
  {
   "cell_type": "markdown",
   "id": "a57a8fb8",
   "metadata": {},
   "source": [
    "### Retrieval "
   ]
  },
  {
   "cell_type": "code",
   "execution_count": 40,
   "id": "7f8d2747",
   "metadata": {},
   "outputs": [],
   "source": [
    "from sklearn.metrics.pairwise import cosine_similarity\n",
    "import numpy as np\n",
    "\n",
    "# Function to perform semantic search\n",
    "def semantic_search(query, embeddings, passages, top_k=5):\n",
    "    # Generate embedding for the query\n",
    "    query_embedding = model.encode(query).reshape(1, -1)\n",
    "    \n",
    "    # Compute cosine similarities\n",
    "    similarities = cosine_similarity(query_embedding, embeddings)\n",
    "    \n",
    "    # Get top-k results\n",
    "    top_k_indices = similarities.argsort()[0][-top_k:][::-1]\n",
    "    results = [(passages[idx], similarities[0][idx]) for idx in top_k_indices]\n",
    "    return results"
   ]
  },
  {
   "cell_type": "code",
   "execution_count": 43,
   "id": "7702f28a",
   "metadata": {},
   "outputs": [
    {
     "name": "stdout",
     "output_type": "stream",
     "text": [
      "Query 0: \"What potential liabilities arise from the structuring of loan agreements under varying types of borrowings?\"\n",
      "  - Passage: the amounts of principal and interest payable and paid to such Lender from time to time hereunder . ( c ) The Administrative Agent shall maintain accounts in which it shall record ( i ) the amount of each Loan made hereunder , the Class , Agreed Currency and Type thereof and the Interest Period applicable thereto , ( ii ) the amount of any principal or interest due and payable or to become due and payable from each Borrower to each Lender hereunder and ( iii ) the amount of any sum received by the Administrative Agent hereunder for the account of the Lenders and each Lender 's share thereof . ( d ) The entries made in the accounts maintained pursuant to paragraph ( b ) or ( c ) of this Section shall be prima facie evidence of the existence and amounts of the obligations recorded therein ; 36 provided that the failure of any Lender or the Administrative Agent to maintain such accounts or any error therein shall not in any manner affect the Obligations . ( e ) Any Lender may request that Loans made by it to any Borrower be evidenced by a promissory note . In such event , the relevant Borrower shall prepare , execute and deliver to such Lender a promissory note payable to the order of such Lender ( or , if requested by such Lender , to such Lender and its registered assigns ) and in the form attached hereto as Exhibit L . Thereafter , the Loans evidenced by such promissory note and interest thereon shall at all times ( including after assignment pursuant to Section 9.04 ) be represented by one or more promissory notes in such form payable to the order of the payee named therein ( or , if such promissory note is a registered note , to such payee and its registered assigns ) . SECTION 2.11. Prepayment of Loans . ( a ) Any Borrower shall have the right at any time and from time to time to prepay any Borrowing in whole or in part , subject to prior notice in accordance with the provisions of this Section 2.11 ( a ) . The applicable Borrower , or the Company on behalf of the applicable Borrower , shall notify the Administrative Agent ( and , in the case of prepayment of a Swingline Loan , the Swingline Lender ) by written notice ( promptly followed by telephonic confirmation of such request ) of any prepayment hereunder ( i ) in the case of prepayment of a Eurocurrency Revolving Borrowing , not later than 11 00 a.m. , Local Time , three ( 3 ) Business Days ( in the case of a Eurocurrency Borrowing denominated in Dollars ) or four ( 4 ) Business Days ( in the case of a Eurocurrency Borrowing denominated in a Foreign Currency ) , in each case before the date of prepayment , ( ii ) in the case of prepayment of an ABR Revolving Borrowing , not later than 11 00 a.m. , New York City time , one Business Day before the date of prepayment or ( iii ) in the case of prepayment of a Swingline Loan , not later than 12 00 noon , New York City time , on the date of prepayment . Each such notice shall be irrevocable and shall specify the prepayment date and the principal amount of each Borrowing or portion thereof to be prepaid ; provided that , if a notice of prepayment is given in connection with a conditional notice of termination of the Commitments as contemplated by Section 2.09 , then such notice of prepayment may be revoked if such notice of termination is revoked in accordance with Section 2.09. Promptly following receipt of any such notice relating to a Revolving Borrowing , the Administrative Agent shall advise the Lenders of the contents thereof . | Score: 0.5757591724395752\n",
      "  - Passage: n 11.6 ( d ) , the assigning Lender ) hereunder from the Borrower and each Lender 's share thereof . ( c ) The entries made in the Register and the accounts of each Lender maintained pursuant to Section 4.14 ( a ) shall , to the extent permitted by applicable law , be prima facie evidence of the existence and amounts of the obligations of the Borrower therein recorded ( absent manifest error ) ; provided , however , that the failure of any Lender or the Administrative Agent to maintain the Register or any such account , or any error therein , shall not in any manner affect the obligation of the Borrower to repay ( with applicable interest ) the Loans made to the Borrower by such Lender in accordance with the terms of this Agreement . ( d ) The Borrower agrees that , upon the request to the Administrative Agent by any Lender , the Borrower will execute and deliver to such Lender a promissory note of the Borrower evidencing any Term Loans , Revolving Loans or Swingline Loans , as the case may be , of such Lender , substantially in the forms of Exhibit E-1 , E-2 or E-3 , respectively , with appropriate insertions as to date and principal amount . 4.15 Illegality . Notwithstanding any other provision herein , if the adoption of or any change in any Requirement of Law or in the interpretation or application thereof shall make it unlawful for any Lender to make or maintain Eurodollar Loans as contemplated by this Agreement , ( a ) the commitment of such Lender hereunder to make Eurodollar Loans , continue Eurodollar Loans as such and convert Base Rate Loans to Eurodollar Loans shall forthwith be canceled and ( b ) such Lender 's Loans then outstanding as Eurodollar Loans , if any , shall be converted automatically to Base Rate Loans on the respective last days of the then current Interest Periods with respect to such Loans or within such earlier period as required by law . If any such conversion of a Eurodollar Loan occurs on a day which is not the last day of the then current Interest Period with respect thereto , the Borrower shall pay to such Lender such amounts , if any , as may be required pursuant to Section 4.11. SECTION 5 . REPRESENTATIONS AND WARRANTIES To induce the Agents and the Lenders to enter into this Agreement and to make the Loans and issue , amend , extend , renew or participate in the Letters of Credit , each of Holdings and the Borrower hereby represents and warrants to each Agent and each Lender that 5.1 Financial Condition . ( i ) The audited consolidated balance sheets and related statements of income , stockholders ' equity and cash flows of the Borrower and its Subsidiaries as of and for each of the fiscal years ended on or around December 31 , 2011 , 2012 and 2013 , accompanied by a report from Ernst & Young LLP and ( ii ) the unaudited consolidated balance sheets and related statements of income , stockholders ' equity and cash flows of the Borrower and its Subsidiaries for the fiscal quarters ended on or around March 31 , 2014 and June 30 , 2014 ( the \" Unaudited Financial Statements \" ) , present fairly in all material respects the consolidated financial condition of the Borrower and its Subsidiaries as at such dates , and the consolidated results of their respective operations and cash flows for such period then ended ( subject to normal year-end audit adjustments and the absence of footnotes in the case of the financial statements delivered pursuant to clause ( ii ) above ) . All such financial statements delivered | Score: 0.5721704959869385\n",
      "  - Passage: the amounts of principal and interest payable and paid to such Lender from time to time hereunder . ( d ) The Administrative Agent shall maintain accounts in which it shall record ( i ) the amount of each Loan made hereunder , the Class and Type thereof and the Interest Period ( if any ) applicable thereto , ( ii ) the amount of any principal or interest due and payable or to become due and payable from any Borrower to each Lender hereunder and ( iii ) the amount of any sum received by the Administrative Agent hereunder for the account of the Lenders and each Lender 's share thereof . ( e ) The entries made in the accounts maintained pursuant to paragraphs ( c ) or ( d ) of this Section shall be prima facie evidence of the existence and amounts of the obligations recorded therein ( absent manifest error ) ; provided that the failure of any Lender or the Administrative Agent to maintain such accounts or any manifest error therein shall not in any manner affect the obligation of any Borrower to repay the Loans in accordance with the terms of this Agreement ; provided , further , that in the event of any inconsistency between the accounts maintained by the Administrative Agent pursuant to paragraph ( d ) of this Section and any Lender 's records , the accounts of the Administrative Agent shall govern . ( f ) Any Lender may request that any Loan made by it be evidenced by a Promissory Note . In such event , the relevant Borrower shall prepare , execute and deliver a Promissory Note to such Lender payable to such Lender and its registered assigns ; it being understood and agreed that such Lender ( and / or its applicable assign ) shall be required to return such Promissory Note to the Top Borrower in accordance with Section 9.05 ( b ) ( iii ) and upon the occurrence of the Termination Date ( or as promptly thereafter as practicable ) . If any Lender loses the original copy of its Promissory Note , it shall execute an affidavit of loss containing an indemnification provision reasonably satisfactory to the Top Borrower . Section 2.11. Prepayment of Loans . ( a ) Optional Prepayments . ( i ) Upon prior notice in accordance with paragraph ( a ) ( iii ) of this Section , any Borrower ( or the Top Borrower on behalf of any Borrower ) shall have the right at any time and from time to time to prepay any Borrowing of Loans of any Class in whole or in part without premium or penalty ( but subject ( A ) in the case of Borrowings of Initial Term Loans only , to Section 2.12 ( c ) and ( B ) if applicable , to Section 2.16 ) . Each such prepayment shall be paid to the Lenders in accordance with their respective Applicable Percentages of the relevant Class . ( ii ) [ Reserved ] . ( iii ) The relevant Borrower ( or the Top Borrower on behalf of the relevant Borrower ) shall notify the Administrative Agent in writing of any prepayment under this Section 2.11 ( a ) ( i ) in the case of any prepayment of a LIBO Rate Borrowing , not later than 1 00 p.m. three Business Days before the date of prepayment or ( ii ) in the case of any prepayment of any ABR Borrowing , not later than 11 00 a.m. on the day of prepayment ( or , such later time as to which the Administrative Agent may agree ) . Each such notice shall be irrevocable ( except as set forth in the proviso to this sentence ) and shall specify the prepayment date and the principal amount of each Borrowing or portion thereof to be prepaid ; | Score: 0.5709607005119324\n",
      "  - Passage: the amounts of principal and interest payable and paid to such Lender from time to time hereunder . ( d ) The Administrative Agent shall maintain accounts in which it shall record ( i ) the amount of each Loan made hereunder , the Class and Type thereof and the Interest Period ( if any ) applicable thereto , ( ii ) the amount of any principal or interest due and payable or to become due and payable from any Borrower to each Lender hereunder and ( iii ) the amount of any sum received by the Administrative Agent hereunder for the account of the Lenders and each Lender 's share thereof . ( e ) The entries made in the accounts maintained pursuant to paragraphs ( c ) or ( d ) of this Section shall be prima facie evidence of the existence and amounts of the obligations recorded therein ( absent manifest error ) ; provided that the failure of any Lender or the Administrative Agent to maintain such accounts or any manifest error therein shall not in any manner affect the obligation of any Borrower to repay the Loans in accordance with the terms of this Agreement ; provided , further , that in the event of any inconsistency between the accounts maintained by the Administrative Agent pursuant to paragraph ( d ) of this Section and any Lender 's records , the accounts of the Administrative Agent shall govern . ( f ) Any Lender may request that any Loan made by it be evidenced by a Promissory Note . In such event , the relevant Borrower shall prepare , execute and deliver a Promissory Note to such Lender payable to such Lender and its registered assigns ; it being understood and agreed that such Lender ( and / or its applicable assign ) shall be required to return such Promissory Note to the Top Borrower in accordance with Section 9.05 ( b ) ( iii ) and upon the occurrence of the Termination Date ( or as promptly thereafter as practicable ) . If any Lender loses the original copy of its Promissory Note , it shall execute an affidavit of loss containing an indemnification provision reasonably satisfactory to the Top Borrower . Section 2.11. Prepayment of Loans . ( a ) Optional Prepayments . ( i ) Upon prior notice in accordance with paragraph ( a ) ( iii ) of this Section , any Borrower ( or the Top Borrower on behalf of any Borrower ) shall have the right at any time and from time to time to prepay any Borrowing of Loans of any Class in whole or in part without premium or penalty ( but subject ( A ) in the case of Borrowings of Initial Term Loans only , to Section 2.12 ( c ) and ( B ) if applicable , to Section 2.16 ) . Each such prepayment shall be paid to the Lenders in accordance with their respective Applicable Percentages of the relevant Class . ( ii ) [ Reserved ] . ( iii ) The relevant Borrower ( or the Top Borrower on behalf of the relevant Borrower ) shall notify the Administrative Agent in writing of any prepayment under this Section 2.11 ( a ) ( i ) in the case of any prepayment of a LIBO Rate Borrowing , not later than 1 00 p.m. three Business Days before the date of prepayment or ( ii ) in the case of any prepayment of any ABR Borrowing , not later than 11 00 a.m. on the day of prepayment ( or , such later time as to which the Administrative Agent may agree ) . Each such notice shall be irrevocable ( except as set forth in the proviso to this sentence ) and shall specify the prepayment date and the principal amount of each Borrowing or portion thereof to be prepaid ; | Score: 0.5709607005119324\n",
      "  - Passage: the amounts of principal and interest payable and paid to such Lender from time to time hereunder . ( c ) The Administrative Agent shall maintain accounts in which it shall record ( i ) the amount of each Loan made hereunder , the Class and Type thereof and if applicable , the Interest Period applicable thereto , ( ii ) the amount of any principal or interest due and payable or to become due and payable from the applicable Borrower to each Lender hereunder and ( iii ) the amount of any sum received by the Administrative Agent hereunder for the account of the Lenders and each Lender 's share thereof . ( d ) The entries made in the accounts maintained pursuant to paragraph ( b ) or ( c ) of this Section 2.11 shall be conclusive , absent manifest error , of the existence and amounts of the obligations recorded therein ; provided , that the failure of any Lender or the Administrative Agent to maintain such accounts or any error therein shall not in any manner affect the obligation of the applicable Borrower to repay the Loans in accordance with the terms of this Agreement . ( e ) Any Lender may request through the Administrative Agent that Loans made by it be evidenced by a promissory note . In such event , the applicable Borrower shall prepare , execute and deliver to such Lender a promissory note payable to such Lender ( or if requested by such Lender , to such Lender and its registered assigns ) and in the form of Exhibit G . Thereafter , the Loans evidenced by such promissory note and interest thereon shall at all times ( including after assignment pursuant to Section 9.4 ) be represented by one or more promissory notes in such form payable to the payee named therein ( and its registered assigns ) . 2.12 Prepayment of Loans . ( a ) Each Borrower shall have the right at any time and from time to time to prepay any Borrowing made by it in whole or in part , without premium or penalty ( but subject to Section 2.18 ) , subject to prior notice in accordance with paragraph ( c ) of this Section 2.12. ( b ) Prior to any optional or mandatory prepayment of Borrowings hereunder , the applicable Borrower shall select the Borrowing or Borrowings to be prepaid and shall specify such selection in the notice of such prepayment pursuant to paragraph ( c ) of this Section 2.12. ( c ) The applicable Borrower shall notify the Administrative Agent by telephone ( confirmed by facsimile or email ) of any prepayment hereunder ( i ) in the case of prepayment of a Eurocurrency Borrowing or Alternate Rate Borrowing , not later than 11 00 a.m. , New York City time , three Business Days before the date of prepayment , or ( ii ) in the case of prepayment of an ABR Borrowing , not later than 11 00 a.m. , New York City time , one Business Day before the date of prepayment . Each such notice shall be irrevocable and shall specify the prepayment date and the 79 principal amount of each Borrowing or portion thereof to be prepaid ; provided , that any notice of prepayment may be conditioned upon the effectiveness of other credit facilities or any other financing , Disposition , sale or other transaction . Promptly following receipt of any such notice relating to a Borrowing , the Administrative Agent shall advise the Lenders of the contents thereof . Each partial prepayment of any Borrowing shall be in an amount that would be permitted in the case of an advance of a Borrowing of the same Type as provided in Section 2.5. | Score: 0.5708714127540588\n",
      "Query 1: \"What potential liabilities arise from retroactive adjustments to interest rates and fees in loan agreements?\"\n",
      "  - Passage: row , prepay , and reborrow Advances . ( b ) Existing Advances under the Existing Credit Agreement . The parties hereto acknowledge and agree that , effective as of the Effective Date , in order to accommodate and orderly effect the reallocations , adjustments , acquisitions and decreases under this Section 2.01 , ( i ) all outstanding Eurodollar Rate Advances ( as defined in the Existing Credit Agreement ) on the date hereof are ( and shall be deemed to be ) Converted to Reference Rate Advances under , and as defined in , the Existing Credit Agreement ( and the Borrower agrees to pay to each Exiting Lender and each Existing Lender such costs and expenses would have been due under Section 2.12 of the Existing Credit Agreement as a result of such Conversion unless waived by such Exiting Lender or Existing Lender ) , and ( ii ) after giving effect to clause ( i ) above , all outstanding Advances ( as defined in the Existing Credit Agreement ) under the Existing Credit Agreement on the date hereof ( the \" Existing Advances \" ) are ( and shall be deemed to be ) continued as the initial Reference Rate Advances ( as defined in this Agreement ) made under this Agreement on the Effective Date . The outstanding Debt under the Existing Credit Agreement shall be assigned , renewed , extended , modified , and rearranged as Obligations outstanding under and pursuant to the terms of this Agreement . The Existing Lenders have agreed among themselves , in consultation with the Borrower , to adjust their respective Commitments and to pay-off in full such Existing Lenders which will not become a Lender hereunder ( each an \" Exiting Lender \" ) . The Administrative Agent , the Lenders , the Borrower and each Exiting Lender ( by receipt of the payment in full of the Advances as defined in , and owing to it under , the Existing Credit Agreement and under a separate exiting agreement executed by such Exiting Lender ) consent to such reallocation and each Existing Lender 's adjustment of , and each Existing Lender 's assignment of , an interest in the Existing Commitments and the Existing Lenders ' partial assignments of their respective Existing Commitments ( pursuant to this Section 2.01 ) . On the Effective Date and after giving effect to such reallocations , adjustments , assignments and decreases , the Maximum Credit Amounts and Elected Commitment Amounts of each Lender shall be as set forth on Schedule II . The Lenders shall make all appropriate adjustments and payments between and among themselves to account for the revised pro rata shares resulting from the initial allocation of the Lenders ' Commitments under this Agreement . The Borrower and each Existing Lender party hereto hereby agrees and this Section 2.01 and any exiting agreement executed by an Exiting Lender that is acceptable to the Administrative Agent shall be deemed approved assignment forms as required under the Existing Credit Agreement . ( c ) Evidence of Indebtedness . The Advances made by each Lender shall be evidenced by one or more accounts or records maintained by such Lender and by the Administrative Agent in the ordinary course of business . The accounts or records maintained by the Administrative Agent and the Lenders shall be conclusive absent manifest error of the amount of the Advances made by such Lenders to the Borrower and the interest and payments thereon . | Score: 0.6415659785270691\n",
      "  - Passage: y ) for each period during such quarter that such Applicable Rate was in effect . ( b ) Other Fees . The Borrower shall pay to the Administrative Agent and / or the Lenders , as applicable , such other fees as may be set forth herein ( including those set forth in Section 2.03 ( h ) and 2.03 ( i ) ) or as shall have been separately agreed upon in writing ( including pursuant to the Fee Letters ) in the amounts and at the times so specified . Such fees shall be fully earned when paid and shall not be refundable for any reason whatsoever . 34 2.10 Computation of Interest and Fees ; Retroactive Adjustments of Applicable Rate . ( a ) All computations of interest for Base Rate Loans based on the prime commercial lending rate of the Administrative Agent shall be made on the basis of a year of 365 or 366 days , as the case may be , and actual days elapsed . All other computations of fees and interest shall be made on the basis of a 360-day year and actual days elapsed ( which results in more fees or interest , as applicable , being paid than if computed on the basis of a 365-day year ) . Interest shall accrue on each Loan for the day on which the Loan is made , and shall not accrue on a Loan , or any portion thereof , for the day on which the Loan or such portion is paid , provided that any Loan that is repaid on the same day on which it is made shall , subject to Section 2.12 ( a ) , bear interest for one day . ( b ) If , as a result of any restatement of or other adjustment to the financial statements of the Parent or for any other reason , the Parent or the Required Lenders determine that ( i ) the Consolidated Leverage Ratio as calculated by the Parent as of any applicable date was inaccurate and ( ii ) a proper calculation of the Consolidated Leverage Ratio would have resulted in higher pricing for such period , the Borrower shall immediately and retroactively be obligated to pay to the Administrative Agent for the account of the applicable Lenders ( or former Lenders ) , promptly on demand by the Administrative Agent ( or , after the occurrence of an actual or deemed entry of an order for relief with respect to the Borrower under the Bankruptcy Code of the United States , automatically and without further action by the Administrative Agent or any Lender ) , an amount equal to the excess of the amount of interest and fees that should have been paid for such period over the amount of interest and fees actually paid for such period . This paragraph shall not limit the rights of the Administrative Agent or any Lender , as the case may be , under Section 2.08 ( b ) or under Article VIII . The Borrower 's obligations under this paragraph shall survive the termination of the Aggregate Commitment and the repayment of all other Obligations hereunder . The failure of any Swing Line Lender to make any Swing Line Loan required to be made by it shall not relieve any other Swing Line Lender of its obligations hereunder ; provided that the commitments of the Swing Line Lenders are several and no Swing Line Lender shall be responsible for any other Swing Line Lender 's failure to make Swing Line Loans as required . 2.11 Evidence of Debt . ( a ) The Credit Extensions made by each Lender , each L / C Issuer and each Swing Line Lender shall be evidenced by one or more accounts or records maintained by such Lender , such L / C Issuer or such Swing Line Lender and by the Administrative Agent in the ordinary course of business . | Score: 0.6148595809936523\n",
      "  - Passage: est and Fees ; Retroactive Adjustments of Applicable Rate . ( a ) Computation of Interest and Fees . All computations of interest for Base Rate Loans ( including Base Rate Loans determined by reference to the Eurodollar Rate ) shall be made on the basis of a year of 365 or 366 days , as the case may be , and actual days elapsed . All other computations of fees and interest shall be made on the basis of a 360-day year and actual days elapsed ( which results in more fees or interest , as applicable , being paid than if computed on the basis of a 365 day year ) . Interest shall accrue on each Loan for the day on which the Loan is made , and shall not accrue on a Loan , or any portion thereof , for the day on which the Loan or such portion is paid , provided that any Loan that is repaid on the same day on which it is made shall , subject to Section 2.12 ( a ) , bear interest for one ( 1 ) day . Each determination by the Administrative Agent of an interest rate or fee hereunder shall be conclusive and binding for all purposes , absent manifest error . 2.11 Evidence of Debt . ( a ) Maintenance of Accounts . The Credit Extensions made by each Lender shall be evidenced by one or more accounts or records maintained by such Lender and by the Administrative Agent in the ordinary course of business . The accounts or records maintained by the Administrative Agent and each Lender shall be conclusive absent manifest error of the amount of the Credit Extensions made by the Lenders to the Borrowers and the interest and payments thereon . Any failure to so record or any error in doing so shall not , however , limit or otherwise affect the obligation of the Borrowers hereunder to pay any amount owing with respect to the Obligations . In the event of any conflict between the accounts and records maintained by any Lender and the accounts and records of the Administrative Agent in respect of such matters , the accounts and records of the Administrative Agent shall control in the absence of manifest error . Upon the request of any Lender made through the Administrative Agent , the Borrowers shall execute and deliver to such Lender ( through the Administrative Agent ) a Note , 50 which shall evidence such Lender 's Loans in addition to such accounts or records . Each Lender may attach schedules to its Note and endorse thereon the date , Type ( if applicable ) , amount and maturity of its Loans and payments with respect thereto . ( b ) Maintenance of Records . In addition to the accounts and records referred to in Section 2.11 ( a ) , each Lender and the Administrative Agent shall maintain in accordance with its usual practice accounts or records evidencing the purchases and sales by such Lender of participations in Letters of Credit and Swingline Loans . In the event of any conflict between the accounts and records maintained by the Administrative Agent and the accounts and records of any Lender in respect of such matters , the accounts and records of the Administrative Agent shall control in the absence of manifest error . 2.12 Payments Generally ; Administrative Agent 's Clawback . ( a ) General . All payments to be made by the Borrowers shall be made free and clear of and without condition or deduction for any counterclaim , defense , recoupment or setoff . | Score: 0.6044033765792847\n",
      "  - Passage: ot constitute a waiver of such Lender 's or such Issuing Bank 's right to demand such compensation ; provided that the Borrower shall not be required to compensate a Lender or an Issuing Bank pursuant to this Section 5.01 for any increased costs or reductions incurred more than 180 days prior to the date that such Lender or such Issuing Bank , as the case may be , notifies the Borrower of the Change in Law giving rise to such increased costs or reductions and of such Lender 's or such Issuing Bank 's intention to claim compensation therefor ; provided further that , if the Change in Law giving rise to such increased costs or reductions is retroactive , then the 180-day period referred to above shall be extended to include the period of retroactive effect thereof . - 65 - Section 5.02 Break Funding Payments . In the event of ( a ) the payment of any principal of any Eurodollar Loan other than on the last day of an Interest Period applicable thereto ( including as a result of an Event of Default ) , ( b ) the conversion of any Eurodollar Loan into an ABR Loan other than on the last day of the Interest Period applicable thereto , ( c ) the failure to borrow , convert , continue or prepay any Eurodollar Loan on the date specified in any notice delivered pursuant hereto , or ( d ) the assignment of any Eurodollar Loan other than on the last day of the Interest Period applicable thereto as a result of a request by the Borrower pursuant to Section 5.05 , then , in any such event , the Borrower shall compensate each Lender for the loss , cost and expense attributable to such event . In the case of a Eurodollar Loan , such loss , cost or expense to any Lender shall be deemed to include an amount determined by such Lender to be the excess , if any , of ( i ) the amount of interest which would have accrued on the principal amount of such Loan had such event not occurred , at the Adjusted LIBO Rate that would have been applicable to such Loan , for the period from the date of such event to the last day of the then current Interest Period therefor ( or , in the case of a failure to borrow , convert or continue , for the period that would have been the Interest Period for such Loan ) , over ( ii ) the amount of interest which would accrue on such principal amount for such period at the interest rate which such Lender would bid were it to bid , at the commencement of such period , for dollar deposits of a comparable amount and period from other banks in the Eurodollar market . A certificate of any Lender setting forth any amount or amounts that such Lender is entitled to receive pursuant to this Section 5.02 shall be delivered to the Borrower and shall be conclusive absent manifest error . The Borrower shall pay such Lender the amount shown as due on any such certificate within 30 days after receipt thereof . Section 5.03 Taxes . ( a ) Payments Free of Taxes . Any and all payments by or on account of any obligation of any Loan Party under any Loan Document shall be made without deduction or withholding for any Taxes , except as required by applicable law . | Score: 0.5902390480041504\n",
      "  - Passage: the Administrative Agent may , and upon the request of the Required Lenders shall , notify the Lead Borrower that all outstanding Obligations shall thereafter bear interest at a fluctuating interest rate per annum at all times equal to the Default Rate and thereafter such Obligations shall bear interest at the Default Rate to the fullest extent permitted by applicable Laws . ( iii ) Accrued and unpaid interest on past due amounts ( including interest on past due interest ) shall be due and payable upon demand . ( c ) Interest on each Loan shall be due and payable in arrears on each Interest Payment Date applicable thereto and at such other times as may be specified herein . Interest hereunder shall be due and payable in accordance with the terms hereof before and after judgment , and before and after the commencement of any proceeding under any Debtor Relief Law . 2.09. Fees . In addition to certain fees described in subsections ( i ) and ( j ) of Section 2.03 ( a ) Commitment Fee . The Borrowers shall pay to the Administrative Agent for the account of each Lender in accordance with its Applicable Percentage , a commitment fee equal to one quarter of one percent ( 0.25% ) per annum multiplied by the actual daily amount by which the Aggregate Commitments exceed the Total Outstandings ( provided , that , for purposes of calculating the commitment fee , outstanding Swing Line Loans will not be included in the calculation ) . The commitment fee shall accrue at all times during the Availability Period , including at any time during which one or more of the conditions in Article IV is not met , and shall be due and payable monthly in arrears on the first day after the end of each month , commencing with the first such date to occur after November 1 , 2012 and on the last day of the Availability Period . The commitment fee shall be calculated monthly in arrears . ( b ) Other Fees . Borrowers shall pay to the Arranger and the Administrative Agent for their own respective accounts fees in the amounts and at the times specified in the Fee Letter . Such fees shall be fully earned when paid and shall not be refundable for any reason whatsoever . 2.10. Computation of Interest and Fees . All computations of fees and interest shall be made on the basis of a 360-day year and actual days elapsed . Interest shall accrue on each outstanding Loan commencing and including the day on which the Loan is made , and until ( but not including ) the day on which such Loan or portion thereof is paid , provided , that , any Loan that is repaid on the same day on which it is made shall , subject to Section 2.12 ( a ) , bear interest for one day . Each determination by the Administrative Agent of an interest rate or fee hereunder shall be conclusive and binding for all purposes , absent manifest error . 2.11. Evidence of Debt . ( a ) The Credit Extensions made by each Lender shall be evidenced by one or more accounts or records maintained by the Administrative Agent ( the \" Loan Account \" ) in the ordinary course of business . In addition , each Lender may record in such Lender 's internal records , an appropriate notation evidencing the date and amount of each Loan from such Lender , each payment and prepayment of principal of any such Loan , and each payment of interest , fees and other amounts due in connection with the Obligations due to such Lender . The accounts or records maintained by the Administrative 82 | Score: 0.5686712265014648\n",
      "Query 2: \"What are the risks associated with conditions placed on loan termination and commitment modifications?\"\n",
      "  - Passage: e with Section 2.10 , the sum of the Revolving Credit Exposures would exceed the total Commitments . ( b ) The Company shall notify the Administrative Agent of any election to terminate or reduce the Commitments under paragraph ( b ) of this Section at least three Business Days prior to the effective date of such termination or reduction , specifying such election and the effective date thereof . Promptly following receipt of any notice , the Administrative Agent shall advise the Lenders of the contents thereof . Each notice delivered by the Company pursuant to this Section shall be irrevocable ; provided that a notice of termination of the Commitments delivered by the Company may state that such notice is conditioned upon the effectiveness of other credit facilities or other receipt of funds , in which case such notice may be revoked by the Company ( by notice to the Administrative Agent on or prior to the specified effective date ) if such condition is not satisfied . Any termination or reduction of the Commitments shall be permanent . Each reduction of the Commitments shall be made ratably among the Lenders in accordance with their respective Commitments . SECTION 2.09 Repayment of Loans ; Evidence of Debt . ( 1 ) Each Borrower hereby severally ( and not jointly ) unconditionally promises to pay to the Administrative Agent for the account of each Lender the then unpaid principal amount of each Revolving Loan made to such Borrower on the Maturity Date . The Company hereby unconditionally promises to pay to the Administrative Agent for the account of the Swingline Lender the then unpaid principal amount of each Swingline Loan on the earlier of the Maturity Date and the first date after such Swingline Loan is made that is the 15th or last day of a calendar month and is at least two Business Days after such Swingline Loan is made ; provided that on each date that a Revolving Borrowing is made , the Company shall repay all Swingline Loans then outstanding and the proceeds of any such Borrowing shall be applied by the Administrative Agent to repay any Swingline Loans outstanding . ( a ) Each Lender shall maintain in accordance with its usual practice an account or accounts evidencing the indebtedness of each Borrower to such Lender resulting from each Loan made by such Lender , including the amounts of principal and interest payable and paid to such Lender from time to time hereunder . ( b ) The Administrative Agent shall maintain accounts in which it shall record ( i ) the amount of each Loan made hereunder , the Class and Type thereof and the Interest Period applicable thereto , ( ii ) the amount of any principal or interest due and payable or to become due and payable from each Borrower to each Lender hereunder and ( iii ) the amount of any sum received by the Administrative Agent hereunder for the account of the Lenders and each Lender 's share thereof . - 37- ( c ) The entries made in the accounts maintained pursuant to paragraph ( b ) or ( c ) of this Section shall be prima facie evidence of the existence and amounts of the obligations recorded therein ; provided that the failure of any Lender or the Administrative Agent to maintain such accounts or any error therein shall not in any manner affect the several obligations of the Borrowers to repay the Loans in accordance with the terms of this Agreement . ( d ) Any Lender may request that Loans made by it be evidenced by a promissory note . | Score: 0.5779995918273926\n",
      "  - Passage: ents thereof . Each notice delivered by the Borrower pursuant to this Section shall be irrevocable ; provided that a notice of termination or reduction of the Revolving Commitments delivered under this paragraph may state that such notice is conditioned upon the occurrence of one or more events specified therein , in which case such notice may be revoked by the Borrower ( by notice to the Administrative Agent on or prior to the specified effective date ) if such condition is not satisfied . Any termination or reduction of the Commitments of any Class shall be permanent . Each reduction of the Commitments of any Class shall be made ratably among the Lenders in accordance with their respective Commitments of such Class . SECTION 2.09. Repayment of Loans ; Evidence of Debt . ( a ) The Borrower hereby unconditionally promises to pay ( i ) to the Administrative Agent for the account of each Lender the then unpaid principal amount of each Revolving Loan of such Lender on the Revolving Maturity Date , ( ii ) to the Administrative Agent for the account of each Lender the then unpaid principal amount of each Term Loan of such Lender as provided in Section 2.10 and ( iii ) to the Swingline Lenders the then unpaid principal amount of each Swingline Loan on the earlier of the Revolving Maturity Date and the fifth Business Day after such Swingline Loan is made ; provided that on each date that a Revolving Borrowing is made , the Borrower shall repay all Swingline Loans that were outstanding on the date such Borrowing was requested and the proceeds of any such Borrowing shall be applied by the Administrative Agent to repay any Swingline Loans then outstanding . 70 ( b ) The records maintained by the Administrative Agent and the Lenders shall be prima facie evidence of the existence and amounts of the obligations of the Borrower in respect of Loans , LC Disbursements , interest and fees due or accrued hereunder ; provided that the failure of the Administrative Agent or any Lender to maintain such records or any error therein shall not in any manner affect the obligation of the Borrower to pay any amounts due hereunder in accordance with the terms of this Agreement . ( c ) Any Lender may request that Loans of any Class made by it be evidenced by a promissory note . In such event , the Borrower shall prepare , execute and deliver to such Lender a promissory note payable to such Lender ( or , if requested by such Lender , to such Lender and its registered assigns ) and in a form approved by the Administrative Agent . Thereafter , the Loans evidenced by such promissory note and interest thereon shall at all times ( including after assignment pursuant to Section 9.04 ) be represented by one or more promissory notes in such form payable to the payee named therein ( or , if such promissory note is a registered note , to such payee and its registered assigns ) . SECTION 2.10. Amortization of Term Loans . ( a ) Subject to adjustment pursuant to paragraph ( c ) of this Section , the Borrower shall repay Tranche B Term Borrowings on each date set forth below in the aggregate principal amount set forth opposite such date Date Amount September 30 , 2015 $ 3,750,000 December 31 , 2015 $ 3,750,000 March 31 , 2016 $ 3,750,000 June 30 , 2016 $ 3,750,000 September 30 , 2016 $ 3,750,000 December 31 , 2016 $ 3,750,000 March 31 , 2017 $ 3,750,000 June 30 , 2017 $ 3,750,000 September 30 , 2017 $ 3,750,000 December 31 , 2017 $ 3,750,000 March 31 , 2018 $ 3,750,000 June 30 , 2018 $ 3,750,000 September 30 , 2018 | Score: 0.5640739798545837\n",
      "  - Passage: tence of Section 2.2 ( c ) . - 10- 2.3. Amendments , etc . with Respect to the Secured Obligations . Each Guarantor shall remain obligated hereunder notwithstanding that , without any reservation of rights against any Guarantor and without notice to or further assent by any Guarantor , any demand for payment of any of the Secured Obligations made by any Secured Party may be rescinded by such Secured Party and any of the Secured Obligations continued , and the Secured Obligations , or the liability of any other person upon or for any part thereof , or any collateral security or guarantee therefor or right of offset with respect thereto , may , from time to time , in whole or in part , be renewed , increased , extended , amended , modified , accelerated , compromised , waived , surrendered or released by any Secured Party , and the Credit Agreement and the other Loan Documents and any other documents executed and delivered in connection therewith may be amended , modified , supplemented or terminated , in whole or in part , as the Administrative Agent ( or the Required Lenders or all Lenders , as the case may be ) and the applicable Loan Parties may deem advisable from time to time , and any collateral security , guarantee or right of offset at any time held by any Secured Party for the payment of the Secured Obligations may be sold , exchanged , waived , surrendered or released . No Secured Party shall have any obligation to protect , secure , perfect or insure any Lien at any time held by it as security for the Secured Obligations or for the guarantee contained in this Section 2 or any property subject thereto . 2.4. Guarantee Absolute and Unconditional . Each Guarantor waives , to the extent permitted by applicable law , any and all notice of the creation , renewal , extension or accrual of any of the Secured Obligations and notice of or proof of reliance by any Secured Party upon the guarantee contained in this Section 2 or acceptance of the guarantee contained in this Section 2 ; the Secured Obligations , and any of them , shall conclusively be deemed to have been created , contracted or incurred , or renewed , extended , amended or waived , in reliance upon the guarantee contained in this Section 2 ; and all dealings between any Borrower and any of the Guarantors , on the one hand , and the Secured Parties , on the other hand , likewise shall be conclusively presumed to have been had or consummated in reliance upon the guarantee contained in this Section 2 . Each Guarantor waives , to the extent permitted by applicable law , diligence , presentment , protest , demand for payment and notice of default or nonpayment to or upon any Borrower or any of the Guarantors with respect to the Secured Obligations . | Score: 0.556415319442749\n",
      "  - Passage: entages set forth in the term \" Borrowing Base \" or add any new classes of eligible assets thereto . ( j ) If , in connection with any proposed change , waiver , discharge or termination of any of the provisions of this Agreement as contemplated by clauses ( i ) through ( vi ) , inclusive , of the first proviso to Section 13.10 ( a ) , the consent of the Required Lenders is obtained but the consent of one or more of such other Lenders whose consent is required is not obtained , then the Lead Borrower shall have the right , so long as all non-consenting Lenders whose individual consent is required are treated as described in either clauses ( A ) or ( B ) below , to either ( A ) replace each such non-consenting Lender or Lenders with one or more Replacement Lenders pursuant to Section 3.04 so long as at the time of such replacement , each such Replacement Lender consents to the proposed change , waiver , discharge or termination or ( B ) terminate such non-consenting Lender 's Commitments and / or repay the outstanding Loans of such Lender in accordance with Section 3.04 , provided that , unless the Commitments that are terminated , and Loans repaid , pursuant to the preceding clause ( B ) are immediately replaced in full at such time through the addition of new Lenders or the increase of outstanding Loans of existing Lenders ( who in each case must specifically consent thereto ) , then in the case of any action pursuant to preceding clause ( B ) the Required Lenders ( determined after giving effect to the proposed action ) shall specifically consent thereto , provided , further , that in any event the Lead Borrower shall not have the right to replace a Lender , terminate its Commitments or repay its Loans solely as a result of the exercise of such Lender 's rights ( and the withholding of any required consent by such Lender ) pursuant to the second proviso to Section 13.10 ( a ) . ( k ) Notwithstanding anything to the contrary contained in clause ( a ) of this Section 13.10 , Parent , the Borrowers , the Agent and each applicable Lender may ( i ) in accordance with the provisions of Section 2.15 , enter into an Incremental Commitment Agreement , ( ii ) in accordance with the provisions of Section 2.19 , enter into an Extension Agreement and ( iii ) in accordance with Section 2.20 , enter into a Refinancing Amendment , and , in each such case , make amendments and changes to this Agreement , including this Section 13.10 , and the other Loan Documents , as contemplated by such Sections . ( l ) Notwithstanding anything to the contrary herein , any fee letter may be amended , or rights and privileges thereunder waived , in a writing executed only by the parties thereto . ( m ) Anything herein to the contrary notwithstanding , during such period as a Lender is a Defaulting Lender , to the fullest extent permitted by applicable law , such Lender will not be entitled to vote in respect of amendments , waivers and consents hereunder and the Commitment and the outstanding Loans or other extensions of credit of such Lender hereunder will not be taken into account in determining whether the Required Lenders or all of the Lenders , as required , have approved any such amendment , waiver or consent ( and the definitions of \" Supermajority \" and \" Required Lenders \" will automatically be deemed modified accordingly for the duration of such period ) ; | Score: 0.554565966129303\n",
      "  - Passage: rm Loan Intercreditor Agreement . SECTION 2 Amount and Terms of Commitments 2.1 Initial Term Loans . Subject to the terms and conditions hereof , each Lender holding an Initial Term Loan Commitment severally agrees to make , in Dollars , in a single draw on the Closing Date , one or more term loans ( each , an \" Initial Term Loan \" ) to the Borrower in an aggregate principal amount not to exceed the amount set forth opposite such Lender 's name in Schedule A under the heading \" Initial Term Loan Commitment \" , as such amount may be adjusted or reduced pursuant to the terms hereof , which Initial Term Loans and ( i ) except as hereinafter provided , shall , at the option of the Borrower , be incurred and maintained as , and / or converted into , ABR Loans or Eurodollar Loans ; ( ii ) shall be made by each such Lender in an aggregate principal amount which does not exceed the Initial Term Loan Commitment of such Lender . Once repaid , Initial Term Loans incurred hereunder may not be reborrowed . On the Closing Date ( after giving effect to the incurrence of Initial Term Loans on such date ) , the Initial Term Loan Commitment of each Lender shall terminate . 2.2 Notes . ( a ) The Borrower agrees that , upon the request to the Administrative Agent by any Lender made on or prior to the Closing Date or in connection with any assignment pursuant to Subsection 11.6 ( b ) , in order to evidence such Lender 's Loan , the Borrower will execute and deliver to such Lender a promissory note substantially in the form of Exhibit A ( as amended , supplemented , replaced or otherwise modified from time to time , a \" Note \" ) , in each case with appropriate insertions therein as to payee , date and principal amount , payable to such Lender and in a principal amount equal to the unpaid principal amount of the applicable Loans made ( or acquired by assignment pursuant to Subsection 11.6 ( b ) ) by such Lender to the Borrower . Each Note shall be payable as provided in Subsection 2.2 ( b ) and provide for the payment of interest in accordance with Subsection 4.1. ( b ) The Initial Term Loans of all the Lenders shall be payable in consecutive quarterly installments beginning on September 30 , 2014 up to and including the Initial Term 71 Loan Maturity Date ( subject to reduction as provided in Subsection 4.4 ) , on the dates and in the principal amounts , subject to adjustment as set forth below , equal to the respective amounts set forth below ( together with all accrued interest thereon ) opposite the applicable installment dates ( or , if less , the aggregate amount of such Initial Term Loans then outstanding ) Date Amount Each March 31 , June 30 , September 30 and December 31 ending prior to the Initial Term Loan Maturity Date Initial Term Loan Maturity Date 0.25% of the aggregate initial principal amount of the Initial Term Loans on the Closing Date all unpaid aggregate principal amounts of any outstanding Initial Term Loans 2.3 Procedure for Initial Term Loan Borrowing . The Borrower shall have given the Administrative Agent notice ( which notice must have been received by the Administrative Agent prior to 9 00 A.M. , New York City time ( or such later time as may be agreed by the Administrative Agent in its reasonable discretion ) , and shall be irrevocable after funding ) on the Closing Date specifying the amount of the Initial Term Loans to be borrowed . | Score: 0.5513103604316711\n",
      "Query 3: \"What potential liabilities arise from inaccuracies in the calculation of financial ratios in loan agreements?\"\n",
      "  - Passage: the amounts of principal and interest payable and paid to such Lender from time to time hereunder . ( c ) The Administrative Agent shall maintain accounts in which it shall record ( i ) the amount of each Loan made hereunder , the Class and Type thereof and if applicable , the Interest Period applicable thereto , ( ii ) the amount of any principal or interest due and payable or to become due and payable from the applicable Borrower to each Lender hereunder and ( iii ) the amount of any sum received by the Administrative Agent hereunder for the account of the Lenders and each Lender 's share thereof . ( d ) The entries made in the accounts maintained pursuant to paragraph ( b ) or ( c ) of this Section 2.11 shall be conclusive , absent manifest error , of the existence and amounts of the obligations recorded therein ; provided , that the failure of any Lender or the Administrative Agent to maintain such accounts or any error therein shall not in any manner affect the obligation of the applicable Borrower to repay the Loans in accordance with the terms of this Agreement . ( e ) Any Lender may request through the Administrative Agent that Loans made by it be evidenced by a promissory note . In such event , the applicable Borrower shall prepare , execute and deliver to such Lender a promissory note payable to such Lender ( or if requested by such Lender , to such Lender and its registered assigns ) and in the form of Exhibit G . Thereafter , the Loans evidenced by such promissory note and interest thereon shall at all times ( including after assignment pursuant to Section 9.4 ) be represented by one or more promissory notes in such form payable to the payee named therein ( and its registered assigns ) . 2.12 Prepayment of Loans . ( a ) Each Borrower shall have the right at any time and from time to time to prepay any Borrowing made by it in whole or in part , without premium or penalty ( but subject to Section 2.18 ) , subject to prior notice in accordance with paragraph ( c ) of this Section 2.12. ( b ) Prior to any optional or mandatory prepayment of Borrowings hereunder , the applicable Borrower shall select the Borrowing or Borrowings to be prepaid and shall specify such selection in the notice of such prepayment pursuant to paragraph ( c ) of this Section 2.12. ( c ) The applicable Borrower shall notify the Administrative Agent by telephone ( confirmed by facsimile or email ) of any prepayment hereunder ( i ) in the case of prepayment of a Eurocurrency Borrowing or Alternate Rate Borrowing , not later than 11 00 a.m. , New York City time , three Business Days before the date of prepayment , or ( ii ) in the case of prepayment of an ABR Borrowing , not later than 11 00 a.m. , New York City time , one Business Day before the date of prepayment . Each such notice shall be irrevocable and shall specify the prepayment date and the 79 principal amount of each Borrowing or portion thereof to be prepaid ; provided , that any notice of prepayment may be conditioned upon the effectiveness of other credit facilities or any other financing , Disposition , sale or other transaction . Promptly following receipt of any such notice relating to a Borrowing , the Administrative Agent shall advise the Lenders of the contents thereof . Each partial prepayment of any Borrowing shall be in an amount that would be permitted in the case of an advance of a Borrowing of the same Type as provided in Section 2.5. | Score: 0.5575814247131348\n",
      "  - Passage: the amounts of principal and interest payable and paid to such Lender from time to time hereunder . ( d ) The Administrative Agent shall maintain accounts in which it shall record ( i ) the amount of each Loan made hereunder , the Class and Type thereof and the Interest Period ( if any ) applicable thereto , ( ii ) the amount of any principal or interest due and payable or to become due and payable from any Borrower to each Lender hereunder and ( iii ) the amount of any sum received by the Administrative Agent hereunder for the account of the Lenders and each Lender 's share thereof . ( e ) The entries made in the accounts maintained pursuant to paragraphs ( c ) or ( d ) of this Section shall be prima facie evidence of the existence and amounts of the obligations recorded therein ( absent manifest error ) ; provided that the failure of any Lender or the Administrative Agent to maintain such accounts or any manifest error therein shall not in any manner affect the obligation of any Borrower to repay the Loans in accordance with the terms of this Agreement ; provided , further , that in the event of any inconsistency between the accounts maintained by the Administrative Agent pursuant to paragraph ( d ) of this Section and any Lender 's records , the accounts of the Administrative Agent shall govern . ( f ) Any Lender may request that any Loan made by it be evidenced by a Promissory Note . In such event , the relevant Borrower shall prepare , execute and deliver a Promissory Note to such Lender payable to such Lender and its registered assigns ; it being understood and agreed that such Lender ( and / or its applicable assign ) shall be required to return such Promissory Note to the Top Borrower in accordance with Section 9.05 ( b ) ( iii ) and upon the occurrence of the Termination Date ( or as promptly thereafter as practicable ) . If any Lender loses the original copy of its Promissory Note , it shall execute an affidavit of loss containing an indemnification provision reasonably satisfactory to the Top Borrower . Section 2.11. Prepayment of Loans . ( a ) Optional Prepayments . ( i ) Upon prior notice in accordance with paragraph ( a ) ( iii ) of this Section , any Borrower ( or the Top Borrower on behalf of any Borrower ) shall have the right at any time and from time to time to prepay any Borrowing of Loans of any Class in whole or in part without premium or penalty ( but subject ( A ) in the case of Borrowings of Initial Term Loans only , to Section 2.12 ( c ) and ( B ) if applicable , to Section 2.16 ) . Each such prepayment shall be paid to the Lenders in accordance with their respective Applicable Percentages of the relevant Class . ( ii ) [ Reserved ] . ( iii ) The relevant Borrower ( or the Top Borrower on behalf of the relevant Borrower ) shall notify the Administrative Agent in writing of any prepayment under this Section 2.11 ( a ) ( i ) in the case of any prepayment of a LIBO Rate Borrowing , not later than 1 00 p.m. three Business Days before the date of prepayment or ( ii ) in the case of any prepayment of any ABR Borrowing , not later than 11 00 a.m. on the day of prepayment ( or , such later time as to which the Administrative Agent may agree ) . Each such notice shall be irrevocable ( except as set forth in the proviso to this sentence ) and shall specify the prepayment date and the principal amount of each Borrowing or portion thereof to be prepaid ; | Score: 0.5559604167938232\n",
      "  - Passage: the amounts of principal and interest payable and paid to such Lender from time to time hereunder . ( d ) The Administrative Agent shall maintain accounts in which it shall record ( i ) the amount of each Loan made hereunder , the Class and Type thereof and the Interest Period ( if any ) applicable thereto , ( ii ) the amount of any principal or interest due and payable or to become due and payable from any Borrower to each Lender hereunder and ( iii ) the amount of any sum received by the Administrative Agent hereunder for the account of the Lenders and each Lender 's share thereof . ( e ) The entries made in the accounts maintained pursuant to paragraphs ( c ) or ( d ) of this Section shall be prima facie evidence of the existence and amounts of the obligations recorded therein ( absent manifest error ) ; provided that the failure of any Lender or the Administrative Agent to maintain such accounts or any manifest error therein shall not in any manner affect the obligation of any Borrower to repay the Loans in accordance with the terms of this Agreement ; provided , further , that in the event of any inconsistency between the accounts maintained by the Administrative Agent pursuant to paragraph ( d ) of this Section and any Lender 's records , the accounts of the Administrative Agent shall govern . ( f ) Any Lender may request that any Loan made by it be evidenced by a Promissory Note . In such event , the relevant Borrower shall prepare , execute and deliver a Promissory Note to such Lender payable to such Lender and its registered assigns ; it being understood and agreed that such Lender ( and / or its applicable assign ) shall be required to return such Promissory Note to the Top Borrower in accordance with Section 9.05 ( b ) ( iii ) and upon the occurrence of the Termination Date ( or as promptly thereafter as practicable ) . If any Lender loses the original copy of its Promissory Note , it shall execute an affidavit of loss containing an indemnification provision reasonably satisfactory to the Top Borrower . Section 2.11. Prepayment of Loans . ( a ) Optional Prepayments . ( i ) Upon prior notice in accordance with paragraph ( a ) ( iii ) of this Section , any Borrower ( or the Top Borrower on behalf of any Borrower ) shall have the right at any time and from time to time to prepay any Borrowing of Loans of any Class in whole or in part without premium or penalty ( but subject ( A ) in the case of Borrowings of Initial Term Loans only , to Section 2.12 ( c ) and ( B ) if applicable , to Section 2.16 ) . Each such prepayment shall be paid to the Lenders in accordance with their respective Applicable Percentages of the relevant Class . ( ii ) [ Reserved ] . ( iii ) The relevant Borrower ( or the Top Borrower on behalf of the relevant Borrower ) shall notify the Administrative Agent in writing of any prepayment under this Section 2.11 ( a ) ( i ) in the case of any prepayment of a LIBO Rate Borrowing , not later than 1 00 p.m. three Business Days before the date of prepayment or ( ii ) in the case of any prepayment of any ABR Borrowing , not later than 11 00 a.m. on the day of prepayment ( or , such later time as to which the Administrative Agent may agree ) . Each such notice shall be irrevocable ( except as set forth in the proviso to this sentence ) and shall specify the prepayment date and the principal amount of each Borrowing or portion thereof to be prepaid ; | Score: 0.5559604167938232\n",
      "  - Passage: the amounts of principal and interest payable and paid to such Lender from time to time hereunder . ( b ) The Administrative Agent shall maintain accounts in which it shall record ( i ) the amount of each Loan made hereunder , the Class and Type thereof and , if applicable , the Interest Period applicable thereto , ( ii ) the amount of any principal or interest due and payable or to become due and payable from the Borrower to each Lender hereunder and ( iii ) the amount of any sum received by the Administrative Agent hereunder for the account of the Lenders and each Lender 's share thereof . ( c ) The entries made in the accounts maintained pursuant to paragraph ( a ) or ( b ) of this Section 2.11 shall be conclusive , absent manifest error , of the existence and amounts of the obligations recorded therein ; provided , that the failure of any Lender or the Administrative Agent to maintain such accounts or any error therein shall not in any manner affect the obligation of the Borrower to repay the Loans in accordance with the terms of this Agreement . ( d ) Any Lender may request through the Administrative Agent that Loans made by it be evidenced by a promissory note . In such event , the Borrower shall prepare , execute and deliver to such Lender a promissory note payable to such Lender or its registered assigns and in the form of Exhibit G . Thereafter , the Loans evidenced by such promissory note and interest thereon shall at all times ( including after assignment pursuant to Section 9.4 ) be represented by one or more promissory notes in such form payable to the payee named therein or its registered assigns . 57 2.12 Prepayment of Loans . ( a ) The Borrower shall have the right at any time and from time to time to prepay any Borrowing made by it in whole or in part , without premium or penalty ( but subject to Sections 2.12 ( e ) and 2.18 ) , subject to prior notice in accordance with paragraph ( c ) of this Section 2.12. ( b ) Prior to any optional or mandatory prepayment of Borrowings hereunder , the Borrower shall select the Borrowing or Borrowings to be prepaid and shall specify such selection in the notice of such prepayment pursuant to paragraph ( c ) of this Section 2.12. Each optional or mandatory prepayment of Term Loans shall be applied ratably to the Term Loans ( based on the respective outstanding principal amounts thereof unless , in the case of Extended Term Loans , Incremental Term Loans or Replacement Term Loans , the applicable Permitted Amendment specifies a less favorable treatment ) ; provided , that prepayments of Term Loans made with the proceeds of any Replacement Term Loans and Permitted Refinancing Indebtedness shall be applied in accordance with Section 2.14 ( e ) . Prepayments of Term Loans shall be applied to the remaining scheduled installments as follows ( i ) any mandatory prepayments of Term Loans pursuant to Section 2.14 shall be applied to the remaining scheduled principal installments ( a ) in the case of the Senior Lien Term Loans , in direct order of maturity and ( b ) in the case of any other Term Loans , in the order specified in the applicable Permitted Amendment , and ( ii ) any optional prepayments of Term Loans pursuant to Section 2.12 ( a ) shall be applied to the remaining scheduled installments thereof as directed by the Borrower ( or , if no such direction is given , in direct order of maturity thereof ) . | Score: 0.5505526661872864\n",
      "  - Passage: est rate or fee hereunder shall be conclusive and binding for all purposes , absent manifest error . ( b ) If , as a result of any restatement of or other adjustment to the financial statements of the Borrowers or for any other reason , the Borrowers or the Administrative Agent determine that ( i ) Consolidated Net Leverage Ratio as calculated by the Borrowers as of any applicable date was inaccurate and ( ii ) a proper calculation of such ratio would have resulted in higher pricing for such period , the Borrowers shall immediately and retroactively be obligated to pay to the Administrative Agent for the account of the applicable Lenders or the applicable L / C Issuer , as the case may be , promptly on demand by the Administrative Agent ( or , after the occurrence of an actual or deemed entry of an order for relief with respect to a Borrower under any Debtor Relief Law , automatically and without further action by the Administrative Agent , any Lender or any L / C Issuer ) , an amount equal to the excess of the amount of interest and fees that should have been paid for such period over the amount of interest and fees actually paid for such period . This paragraph shall not limit the rights of the Administrative Agent , any Lender or the L / C Issuer , as the case may be , under Sections 2.03 ( c ) ( iii ) , 2.03 ( h ) or 2.08 ( b ) or under Article VIII . The Borrowers ' obligations under this Section 2.10 ( b ) shall survive the termination of the Commitments and the repayment of all other Obligations hereunder for the limited period ending one month following the date of the annual audited financial statements of the Parent and its Subsidiaries that include the period during which such termination and repayment occurred . - 65- 2.11 Evidence of Debt . ( a ) The Credit Extensions made by each Lender and each L / C Issuer shall be evidenced by one or more accounts or records maintained by such Lender or L / C Issuer and by the Administrative Agent in the ordinary course of business . The accounts or records maintained by the Administrative Agent and each Lender or L / C Issuer shall be conclusive absent manifest error of the amount of the Credit Extensions made by the Lenders and / or the L / C Issuers to or for the account of the Borrowers and the interest and payments thereon . Any failure to so record or any error in doing so shall not , however , limit or otherwise affect the obligation of the Borrowers hereunder to pay any amount owing with respect to the Obligations . In the event of any conflict between the accounts and records maintained by any Lender and the accounts and records of the Administrative Agent in respect of such matters , the accounts and records of the Administrative Agent shall control in the absence of manifest error . Upon the request of any Lender to the Borrowers made through the Administrative Agent , the Borrowers shall execute and deliver to such Lender ( through the Administrative Agent ) Note ( s ) , which shall evidence such Lender 's Loans to the Borrowers , in addition to such accounts or records . Each Lender may attach schedules to its Note and endorse thereon the date , Type ( if applicable ) , amount and maturity of its Loans and payments with respect thereto . | Score: 0.5494318008422852\n",
      "Query 4: What are the risks associated with discrepancies between the accounts or records of the Lenders and the Administrative Agent in loan agreements?\n",
      "  - Passage: Agent ) a Note , which shall evidence such Lender 's Loans in addition to such accounts or records . ( b ) In addition to the accounts and records referred to in ( a ) above , each Lender and Administrative Agent shall maintain in accordance with its usual practice accounts or records and , in the case of the Administrative Agent , entries in the Register , evidencing the purchases and sales by such Lender of participations in Letters of Credit and Swing Line Loans . In the event of any conflict between the accounts and records maintained by Administrative Agent and the accounts and records of any Lender in respect of such matters , the Register shall control in the absence of manifest error . - 62- 2.12. Payments Generally ; Administrative Agent 's Clawback . ( a ) General . All payments to be made by Borrowers shall be made without deduction for any counterclaim , defense , recoupment or setoff . Except as otherwise expressly provided herein , all payments by Borrowers hereunder shall be made to Administrative Agent , for the account of the respective Lenders to which such payment is owed , at Administrative Agent 's Office in Dollars and in immediately available funds not later than 2 00 p.m. on the date specified herein . Subject to Section 2.14 , Administrative Agent will promptly distribute to each Lender its Applicable Percentage in respect of the relevant Facility ( or other applicable share as provided herein ) of such payment in like funds as received by wire transfer to such Lender 's Lending Office . All payments received by Administrative Agent after 2 00 p.m. shall be deemed received on the next succeeding Business Day and any applicable interest or fee shall continue to accrue . If any payment to be made by Borrowers shall come due on a day other than a Business Day , payment shall be made on the next following Business Day , and such extension of time shall be reflected when computing interest or fees , as the case may be . ( b ) Presumptions by Administrative Agent . ( i ) Funding by Lenders . Unless Administrative Agent shall have received notice from a Lender prior to the proposed date of any Borrowing of Eurodollar Rate Loans ( or , in the case of any Borrowing of Base Rate Loans , prior to 12 00 noon on the date of such Borrowing ) that such Lender will not make available to Administrative Agent such Lender 's share of such Borrowing , Administrative Agent may assume that such Lender has made such share available in accordance with Section 2.02 and may , in reliance upon such assumption , make available to Borrowers a corresponding amount . | Score: 0.7264845371246338\n",
      "  - Passage: ith the Obligations due to such Lender . The accounts or records maintained by the Administrative 82 Agent and each Lender shall be conclusive absent manifest error of the amount of the Credit Extensions made by the Lenders to the Borrowers and the interest and payments thereon . Any failure to so record or any error in doing so shall not , however , limit or otherwise affect the obligation of the Borrowers hereunder to pay any amount owing with respect to the Obligations . In the event of any conflict between the accounts and records maintained by any Lender and the accounts and records of the Administrative Agent in respect of such matters , the accounts and records of the Administrative Agent shall control in the absence of manifest error . Upon the request of any Lender made through the Administrative Agent , the Borrowers shall execute and deliver to such Lender ( through the Administrative Agent ) a Note , which shall evidence such Lender 's Loans in addition to such accounts or records . Each Lender may attach schedules to its Note and endorse thereon the date , Type ( if applicable ) , amount and maturity of its Loans and payments with respect thereto . Upon receipt of an affidavit of a Lender as to the loss , theft , destruction or mutilation of such Lender 's Note and upon cancellation of such Note , the Borrowers will issue , in lieu thereof , a replacement Note in favor of such Lender , in the same principal amount thereof and otherwise of like tenor . ( b ) In addition to the accounts and records referred to in Section 2.11 ( a ) , each Lender and the Administrative Agent shall maintain in accordance with its usual practice accounts or records evidencing the purchases and sales by such Lender of participations in Letters of Credit and Swing Line Loans . In the event of any conflict between the accounts and records maintained by the Administrative Agent and the accounts and records of any Lender in respect of such matters , the accounts and records of the Administrative Agent shall control in the absence of manifest error . 2.12. Payments Generally ; Administrative Agent 's Clawback . ( a ) General . ( i ) All payments to be made by the Borrowers shall be made without condition or deduction for any counterclaim , defense , recoupment or setoff . Except as otherwise expressly provided herein , all payments by the Borrowers hereunder shall be made to the Administrative Agent , for the account of the respective Lenders to which such payment is owed , at the Administrative Agent 's Office in Dollars and in immediately available funds not later than 2 00 p.m. on the date specified herein . The Administrative Agent will promptly distribute to each Lender its Applicable Percentage ( or other applicable share as provided herein ) of such payment in like funds as received by wire transfer to such Lender 's Lending Office . All payments received by the Administrative Agent after 2 00 p.m. , at the option of the Administrative Agent , shall be deemed received on the next succeeding Business Day and any applicable interest or fee shall continue to accrue . If any payment to be made by the Borrowers shall come due on a day other than a Business Day , payment shall be made on the next following Business Day , and such extension of time shall be reflected in computing interest or fees , as the case may be . ( ii ) All payments to be made hereunder by Borrowers shall be remitted to Administrative Agent from and all such payments , and all proceeds of | Score: 0.7205094695091248\n",
      "  - Passage: cords maintained by such Lender and by the Administrative Agent in the ordinary course of business . The accounts or records maintained by the Administrative Agent and each Lender shall be conclusive absent manifest error of the amount of the Credit Extensions made by the Lenders to the Borrower and the interest and payments thereon . Any failure to so record or any error in doing so shall not , however , limit or otherwise affect the obligation of the Borrower hereunder to pay any amount owing with respect to the Obligations . In the event of any conflict between the accounts and records maintained by any Lender and the accounts and records of the Administrative Agent in respect of such matters , the accounts and records of the Administrative Agent shall control in the absence of manifest error . Upon the request of any Lender made through the Administrative Agent , the Borrower shall execute and deliver to such Lender ( through the Administrative Agent ) a Note , which shall evidence such Lender 's Loans in addition to such accounts or records . Each Lender may attach schedules to its Note and endorse thereon the date , Type ( if applicable ) , amount and maturity of its Loans and payments with respect thereto . ( b ) In addition to the accounts and records referred to in Section 2.11 ( a ) , each Lender and the Administrative Agent shall maintain in accordance with its usual practice accounts or records evidencing the purchases and sales by such Lender of participations in Letters of Credit and Swing Line Loans . In the event of any conflict between the accounts and records maintained by the Administrative Agent and the accounts and records of any Lender in respect of such matters , the accounts and records of the Administrative Agent shall control in the absence of manifest error . 83 Section 2.12. Payments Generally . ( a ) All payments to be made by the Borrower shall be made without condition or deduction for any counterclaim , defense , recoupment or setoff . Except as otherwise expressly provided herein , all payments by the Borrower hereunder shall be made to the Administrative Agent , for the account of the respective Lenders to which such payment is owed , at the applicable Administrative Agent 's Office in Dollars and in Same Day Funds not later than 3 00 p.m. on the date specified herein . The Administrative Agent will promptly distribute to each Lender its Pro Rata Share ( or other applicable share as provided herein ) of such payment in like funds as received by wire transfer to such Lender 's applicable Lending Office . All payments received by the Administrative Agent after 3 00 p.m. , shall in each case be deemed received on the next succeeding Business Day and any applicable interest or fee shall continue to accrue . ( b ) If any payment to be made by the Borrower shall come due on a day other than a Business Day , payment shall be made on the next following Business Day , and such extension of time shall be reflected in computing interest or fees , as the case may be ; provided that , if such extension would cause payment of interest on or principal of Eurodollar Rate Loans to be made in the next succeeding calendar month , such payment shall be made on the immediately preceding Business Day . | Score: 0.7131598591804504\n",
      "  - Passage: Administrative Agent , any Lender or the L / C Issuer , as the case may be , under this Agreement . The Borrower 's obligations under this paragraph shall survive the termination of the Aggregate Revolving Commitments and the repayment of all other Obligations hereunder . 2.11 Evidence of Debt . ( a ) The Credit Extensions made by each Lender shall be evidenced by one or more accounts or records maintained by such Lender and by the Administrative Agent in the ordinary course of business . The accounts or records maintained by the Administrative Agent and each Lender shall be conclusive absent demonstrable error of the amount of the Credit Extensions made by the Lenders to the Borrower and the interest and payments thereon . Any failure to so record or any error in doing so shall not , however , limit or otherwise affect the obligation of the Borrower hereunder to pay any amount owing with respect to the Obligations . In the event of any conflict between the accounts and records maintained by any Lender and the accounts and records of the Administrative Agent in respect of such matters , the accounts and records of the Administrative Agent shall control in the absence of demonstrable error . Upon five ( 5 ) Business Days of written request of any Lender made through the Administrative Agent , the Borrower 50 shall execute and deliver to such Lender ( through the Administrative Agent ) a promissory note , which shall evidence such Lender 's Loans in addition to such accounts or records . Each such promissory note shall be in the form of Exhibit 2.11 ( a ) ( a \" Note \" ) . Each Lender may attach schedules to its Note and endorse thereon the date , Type ( if applicable ) , amount and maturity of its Loans and payments with respect thereto . ( b ) In addition to the accounts and records referred to in subsection ( a ) above , each Lender and the Administrative Agent shall maintain in accordance with its usual practice accounts or records evidencing the purchases and sales by such Lender of participations in Letters of Credit and Swing Line Loans . In the event of any conflict between the accounts and records maintained by the Administrative Agent and the accounts and records of any Lender in respect of such matters , the accounts and records of the Administrative Agent shall control in the absence of demonstrable error . 2.12 Payments Generally ; Administrative Agent 's Clawback . ( a ) General . All payments to be made by the Borrower shall be made free and clear of and without condition or deduction for any counterclaim , defense , recoupment or setoff . Except as otherwise expressly provided herein , all payments by the Borrower hereunder shall be made to the Administrative Agent , for the account of the respective Lenders to which such payment is owed , at the Administrative Agent 's Office in Dollars and in immediately available funds not later than 2 00 p.m. on the date specified herein . The Administrative Agent will promptly distribute to each Lender its Applicable Percentage ( or other applicable share as provided herein ) of such payment in like funds as received by wire transfer to such Lender 's Lending Office . All payments received by the Administrative Agent after 2 00 p.m. shall be deemed received on the next succeeding Business Day and any applicable interest or fee shall continue to accrue . | Score: 0.7103753089904785\n",
      "  - Passage: he accounts and records of the Administrative Agent shall control in the absence of manifest error . Upon the request of any Lender made through the Administrative Agent , the Borrower shal execute and deliver to such Lender ( through the Administrative Agent ) a Note , which shal evidence such Lender 's Loans in addition to such accounts or records . Each Lender may attach schedules to its Note and endorse thereon the date , Type ( if applicable ) , amount and maturity of its Loans and payments with respect thereto . ( b ) In addition to the accounts and records referred to in Section 2.11 ( a ) , each Lender and the Administrative Agent shal maintain in accordance with its usual practice accounts or records evidencing the purchases and sales by such Lender of participations in Letters of Credit and Swing Line Loans . In the event of any conflict between the accounts and records maintained by the Administrative Agent and the accounts and records of any Lender in respect of such matters , the accounts and records of the Administrative Agent shal control in the absence of manifest error . 2.12 Payments Generaly ; Administrative Agent 's Clawback . ( a ) General . Al payments to be made by the Borrower shal be made without condition or deduction for any counterclaim , defense , recoupment or setoff . Except as otherwise expressly provided herein , al payments by the Borrower hereunder shal be made to the Administrative Agent , for the account of the respective Lenders to which such payment is owed , at the Administrative Agent 's Office in Dollars and in immediately available funds not later than 2 00 p.m. on the date specified herein . The Administrative Agent wil promptly distribute to each Lender its Applicable Percentage in respect of the relevant Facility ( or other applicable share as provided herein ) of such payment in like funds as received by wire transfer to such Lender 's Lending Office . Al payments received by the Administrative Agent after 2 00 p.m. shal be deemed received on the next succeeding Business Day and any applicable interest or fee shal continue to accrue . If any payment to be made by the Borrower shal come due on a day other than a Business Day , payment shal be made on the next folowing Business Day , and such extension of time shal be reflected on computing interest or fees , as the case may be . - 61- ( b ) ( i ) Funding by Lenders ; Presumption by Administrative Agent . Unless the Administrative Agent shal have received notice from a Lender prior to the proposed time of any Borrowing of Loans that such Lender will not make available to the Administrative Agent such Lender 's share of such Borrowing , the Administrative Agent may assume that such Lender has made such share available on such date in accordance with Section 2.02 ( or , in the case of a Borrowing of Base Rate Loans , that such Lender has made such share available in accordance with and at the time required by Section 2.02 ) and may , in reliance upon such assumption , make available to the Borrower a corresponding amount . | Score: 0.6958317756652832\n"
     ]
    }
   ],
   "source": [
    "embedding_matrix = np.vstack(sample_data[\"embeddings\"])\n",
    "\n",
    "# Perform retrieval for each query\n",
    "retrieved_passages_per_query = {}\n",
    "for query_id, query in generated_queries.items():\n",
    "    results = semantic_search(query, embedding_matrix, sample_data[\"cleaned_passage\"].tolist(), top_k=5)\n",
    "    retrieved_passages_per_query[query_id] = results\n",
    "\n",
    "# Display results\n",
    "for query_id, results in retrieved_passages_per_query.items():\n",
    "    print(f\"Query {query_id}: {generated_queries[query_id]}\")\n",
    "    for passage, score in results:\n",
    "        print(f\"  - Passage: {passage} | Score: {score}\")"
   ]
  },
  {
   "cell_type": "markdown",
   "id": "c46d22b5",
   "metadata": {},
   "source": [
    "## Generation"
   ]
  },
  {
   "cell_type": "code",
   "execution_count": 44,
   "id": "ca9c25fe",
   "metadata": {},
   "outputs": [
    {
     "name": "stdout",
     "output_type": "stream",
     "text": [
      "Summary for Query 0: The passage outlines several potential liabilities and risks associated with the structuring of loan agreements under different types of borrowings:\n",
      "\n",
      "1. **Payment Obligations**: Borrowers have an obligation to repay the principal and interest amounts as recorded by the Administrative Agent. Failure to do so may lead to default.\n",
      "\n",
      "2. **Account Maintenance Errors**: Errors or failures by lenders or the Administrative Agent in maintaining financial records do not affect the borrower's obligation to repay loans; this could result in disputes over amounts owed.\n",
      "\n",
      "3. **Prepayment Notices**: Borrowers must follow strict protocols for notifying lenders of prepayments, including specific time frames depending on the type of borrowing. Failure to comply with notice requirements may incur penalties or complicate prepayment processes.\n",
      "\n",
      "4. **Changes in Law**: Legal changes that render specific loan types (e.g., Eurodollar Loans) unlawful could result in automatic conversions to other loan types (e.g., Base Rate Loans), potentially increasing the borrower's costs.\n",
      "\n",
      "5. **Promissory Notes**: If a lender requests a promissory note, the borrower must execute it properly, or it may affect the enforceability of the loan.\n",
      "\n",
      "6. **Repayment Currency and Interest Rate Changes**: Borrowers face risks associated with different currencies and interest rates, which can affect repayment amounts and overall financial obligations.\n",
      "\n",
      "7. **Prepayment Conditions**: Optional prepayments must be executed under specific conditions and may be influenced by the effectiveness of other financing or transactions, which could complicate intended financial strategies.\n",
      "\n",
      "These points highlight the need for diligence in managing loan agreements and understanding the implications of terms and conditions within such frameworks.\n",
      "\n",
      "\n",
      "Summary for Query 1: The potential liabilities arising from retroactive adjustments to interest rates and fees in loan agreements include:\n",
      "\n",
      "1. **Increased Financial Obligations**: If it is determined that past calculations of the Consolidated Leverage Ratio were inaccurate, the Borrower may be required to pay the difference in interest and fees retroactively. This can lead to significant unexpected financial burdens.\n",
      "\n",
      "2. **Demand for Immediate Payment**: The Borrower could face immediate demands for payment of the excess interest and fees, which could impact cash flow and financial stability.\n",
      "\n",
      "3. **Survival of Obligations**: The Borrower's obligation to pay retroactive amounts may continue even after the termination of the loan or repayment of all other obligations. This creates ongoing uncertainty regarding potential future liabilities.\n",
      "\n",
      "4. **Impact of Financial Restatements**: Adjustments resulting from restatements of financial statements could lead to overcharges, fueling disputes and potential reputational damage if the adjustments are contested.\n",
      "\n",
      "5. **Administrative Costs**: The process of recalculating and adjusting payments may incur administrative costs for both Borrowers and Lenders, further complicating financial management.\n",
      "\n",
      "6. **Clawback Provisions**: Provisions allowing Lenders to reclaim amounts paid under adjusted rates or fees could increase overall liability in case of payment disputes.\n",
      "\n",
      "These risks underscore the importance of accurate financial reporting and the potential consequences of adjustments in financial agreements.\n",
      "\n",
      "\n",
      "Summary for Query 2: The risks associated with conditions placed on loan termination and commitment modifications include:\n",
      "\n",
      "1. **Irrevocability of Notices**: Once a notice to terminate or reduce commitments is delivered by the Company, it is irrevocable. If conditions specified are not met, this can create a situation where the Company is locked into unfavorable terms or unable to access necessary funding.\n",
      "\n",
      "2. **Condition-Based Notices**: Notices to terminate or reduce commitments may be contingent upon meeting certain conditions. Failure to satisfy these conditions allows for the potentially detrimental revocation of a termination notice, which can lead to unexpected obligations.\n",
      "\n",
      "3. **Permanent Reduction of Commitments**: Any termination or reduction of commitments is permanent, limiting the Company’s future borrowing capacity and flexibility to manage its finances.\n",
      "\n",
      "4. **Distribution of Reductions**: Reductions in commitments must be made ratably among lenders. This can lead to complications if different lenders have varying levels of agreement or willingness to participate in modified terms.\n",
      "\n",
      "5. **Impact of Non-Consenting Lenders**: In the event that some lenders do not consent to changes and modifications, the Company faces the risk of being unable to proceed with necessary alterations in terms or commitments.\n",
      "\n",
      "6. **Liabilities Related to Record Keeping**: Errors in maintaining records by the administrative agent or lenders do not mitigate the borrower's obligation to meet repayment terms, creating legal vulnerabilities if discrepancies arise.\n",
      "\n",
      "7. **Defaulting Lenders**: Actions involving defaulting lenders can complicate processes for amendments, waivers, or consents, leading to further restrictions on the borrower's options.\n",
      "\n",
      "8. **Guarantee Obligations**: Guarantees can remain in effect even with modifications to obligations, leading to persistent liability for the Company, irrespective of subsequent changes to the terms of the loans or agreements.\n",
      "\n",
      "Overall, these conditions can lead to unexpected financial liabilities, impact liquidity, and reduce operational flexibility for the Company.\n",
      "\n",
      "\n",
      "Summary for Query 3: Inaccuracies in the calculation of financial ratios in loan agreements can lead to several potential liabilities:\n",
      "\n",
      "1. **Retrospection of Pricing Adjustments**: If it is determined that a financial ratio, such as the Consolidated Net Leverage Ratio, was inaccurately calculated, the borrower may be retroactively obligated to pay the difference between the interest and fees that should have been paid based on the correct ratio and what was actually paid. This can create unexpected financial burdens for the borrower.\n",
      "\n",
      "2. **Contractual Obligations and Compliance**: Borrowers are obligated to maintain certain financial ratios to comply with the terms of loan agreements. Failure to accurately represent these can lead to breaches of contract, exposing the borrower to penalties or acceleration of repayments.\n",
      "\n",
      "3. **Legal and Financial Consequences**: Misstatements can result in legal liabilities, increased interest rates, or other unfavorable terms being applied to the borrower as a consequence of non-compliance with agreed financial metrics.\n",
      "\n",
      "4. **Survival of Obligations**: The obligations resulting from inaccuracies may survive beyond the termination of the loan agreement or the repayment of debts, particularly for fixed periods as stipulated, meaning the borrower might have ongoing liabilities even after their main obligations are settled.\n",
      "\n",
      "5. **Administrative Agent Reliance**: The role of the Administrative Agent in maintaining records and accounts can also create liabilities if discrepancies are found. The failure of the Administrative Agent to accurately maintain these records does not alter the borrower's obligation to repay the loan, potentially leading to disputes or complications in repayment scenarios.\n",
      "\n",
      "Overall, these liabilities underscore the importance of accuracy in financial reporting and compliance within loan agreements.\n",
      "\n",
      "\n",
      "Summary for Query 4: Discrepancies between the accounts or records of Lenders and the Administrative Agent in loan agreements present several risks and liabilities, including:\n",
      "\n",
      "1. **Control of Records**: In the event of a conflict, the accounts and records maintained by the Administrative Agent will control in the absence of manifest error. This means that any discrepancies may lead to the Administrative Agent's records being deemed authoritative, potentially impacting the rights or recoveries of Lenders who may have different accounts.\n",
      "\n",
      "2. **Obligation to Pay**: The Borrowers' obligation to pay amounts owed remains unaffected by any errors or discrepancies in the records. This can create risks for Borrowers since they are held to their payment commitments regardless of whether there are discrepancies on the Lenders' or the Administrative Agent's part.\n",
      "\n",
      "3. **Payment Distribution Delays**: If the Administrative Agent makes incorrect assumptions about Lender contributions based on these discrepancies (such as mistakenly assuming funds were available), there may be payment delays or incorrect distributions to Lenders, which can lead to liquidity issues.\n",
      "\n",
      "4. **Potential for Legal Disputes**: Discrepancies may lead to disputes between Lenders and the Administrative Agent, which could result in litigation over the amounts owed or the validity of records, incurring legal costs and potential penalties for parties involved.\n",
      "\n",
      "5. **Uncertainty in Borrowing Costs**: Discrepancies may impact the accurate calculation of interest or fees owed by Borrowers over time, leading to potential financial losses or additional costs if corrected later.\n",
      "\n",
      "6. **Impacts on Borrower Relationships**: Erroneous records can affect the relationship between Borrowers and Lenders, potentially harming negotiations for future loans or altering credit terms.\n",
      "\n",
      "Overall, these discrepancies can introduce a range of operational, legal, and financial risks that may affect all parties involved in the loan agreement.\n",
      "\n",
      "\n"
     ]
    }
   ],
   "source": [
    "def summarize_results(query, passages):\n",
    "    # Prepare context for GPT\n",
    "    context = \"\\n\".join([f\"- {p}\" for p, _ in passages])\n",
    "    prompt = f\"\"\"\n",
    "    Query: {query}\n",
    "    Relevant Passages:\n",
    "    {context}\n",
    "    Provide a concise summary of the risks or liabilities identified:\n",
    "    \"\"\"\n",
    "    \n",
    "    # GPT call\n",
    "    response = openai.ChatCompletion.create(\n",
    "        model=\"gpt-4o-mini\",\n",
    "        messages=[{\"role\": \"system\", \"content\": \"You are a legal assistant.\"},\n",
    "                  {\"role\": \"user\", \"content\": prompt}]\n",
    "    )\n",
    "    return response['choices'][0]['message']['content'].strip()\n",
    "\n",
    "# Summarize for a specific query\n",
    "for query_id, results in retrieved_passages_per_query.items():\n",
    "    summary = summarize_results(generated_queries[query_id], results)\n",
    "    print(f\"Summary for Query {query_id}: {summary}\")\n",
    "    print('\\n')\n"
   ]
  },
  {
   "cell_type": "code",
   "execution_count": null,
   "id": "ab4601c4",
   "metadata": {},
   "outputs": [],
   "source": []
  },
  {
   "cell_type": "code",
   "execution_count": null,
   "id": "d46319d2",
   "metadata": {},
   "outputs": [],
   "source": []
  }
 ],
 "metadata": {
  "kernelspec": {
   "display_name": "Python 3 (ipykernel)",
   "language": "python",
   "name": "python3"
  },
  "language_info": {
   "codemirror_mode": {
    "name": "ipython",
    "version": 3
   },
   "file_extension": ".py",
   "mimetype": "text/x-python",
   "name": "python",
   "nbconvert_exporter": "python",
   "pygments_lexer": "ipython3",
   "version": "3.11.5"
  }
 },
 "nbformat": 4,
 "nbformat_minor": 5
}
